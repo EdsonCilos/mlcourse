{
  "nbformat": 4,
  "nbformat_minor": 0,
  "metadata": {
    "colab": {
      "name": "face_recognition.ipynb",
      "provenance": [],
      "collapsed_sections": []
    },
    "kernelspec": {
      "name": "python3",
      "display_name": "Python 3"
    },
    "language_info": {
      "name": "python"
    }
  },
  "cells": [
    {
      "cell_type": "markdown",
      "source": [
        "Professor Edson Cilos\n",
        "\n",
        "Linkedin: https://www.linkedin.com/in/edson-cilos-032a66162/\n",
        "\n",
        "Os códigos foram extraídos do \"user guide\" do [sklearn](https://scikit-learn.org/stable/auto_examples/applications/plot_face_recognition.html#sphx-glr-auto-examples-applications-plot-face-recognition-py)\n",
        "\n",
        "Esse material é explicado com detalhes no meu [curso](https://www.udemy.com/course/edson-cilos-ml/?referralCode=2C9C581FAB301BBAE173)."
      ],
      "metadata": {
        "id": "7FqKBWfVqO9X"
      }
    },
    {
      "cell_type": "markdown",
      "source": [
        "# Objetivo"
      ],
      "metadata": {
        "id": "U0_qVKW_rL43"
      }
    },
    {
      "cell_type": "markdown",
      "source": [
        "Nesta atividade vamos aplicar a \"Análise de Componentes Principais\" para um problema de reconhecimento facial. O conjunto de dados utilizados neste mini-projeto é uma versão preprocessada do conjunto “Labeled Faces in the Wild” (LFW).\n",
        "\n",
        "**Atenção,** de acordo com os fornecedores dos dados: \"Independente da performance de um algoritmo treinado no LFW, a partir desses dados não deve-se concluir que o algoritmo é útil, qualquer que seja a aplicação comercial\" (tradução livre)."
      ],
      "metadata": {
        "id": "MQ0NrnIbZC1E"
      }
    },
    {
      "cell_type": "markdown",
      "source": [
        "# Módulos utilizados"
      ],
      "metadata": {
        "id": "yDSu5Dpbqzcl"
      }
    },
    {
      "cell_type": "code",
      "execution_count": null,
      "metadata": {
        "id": "_Ke4QlLHY8Eg"
      },
      "outputs": [],
      "source": [
        "from time import time\n",
        "import matplotlib.pyplot as plt\n",
        "\n",
        "from sklearn.model_selection import train_test_split\n",
        "from sklearn.model_selection import RandomizedSearchCV\n",
        "from sklearn.datasets import fetch_lfw_people\n",
        "from sklearn.metrics import classification_report\n",
        "from sklearn.metrics import ConfusionMatrixDisplay\n",
        "from sklearn.preprocessing import StandardScaler\n",
        "from sklearn.decomposition import PCA\n",
        "from sklearn.svm import SVC\n",
        "from sklearn.utils.fixes import loguniform"
      ]
    },
    {
      "cell_type": "markdown",
      "source": [
        "# Rápida explorada nos dados"
      ],
      "metadata": {
        "id": "lii5MESegspQ"
      }
    },
    {
      "cell_type": "markdown",
      "source": [
        "Vamos primeiramente buscar os dados dentro da biblioteca de datasets do sklearn"
      ],
      "metadata": {
        "id": "QydkLVWrZR0J"
      }
    },
    {
      "cell_type": "code",
      "source": [
        "lfw_people = fetch_lfw_people(min_faces_per_person=70, color=True)"
      ],
      "metadata": {
        "id": "DklN42XeZNug"
      },
      "execution_count": null,
      "outputs": []
    },
    {
      "cell_type": "markdown",
      "source": [
        "Vamos examinar as dimensões das imagens, isso será útil para alguns plots"
      ],
      "metadata": {
        "id": "-6fsP_1tZaD1"
      }
    },
    {
      "cell_type": "code",
      "source": [
        "print(lfw_people.images.shape)"
      ],
      "metadata": {
        "id": "BpxcHALcZ6E9"
      },
      "execution_count": null,
      "outputs": []
    },
    {
      "cell_type": "code",
      "source": [
        "n_samples, h, w, _ = lfw_people.images.shape"
      ],
      "metadata": {
        "id": "2DnUITjuZoH5"
      },
      "execution_count": null,
      "outputs": []
    },
    {
      "cell_type": "code",
      "source": [
        "plt.imshow(lfw_people.images[14]/255)"
      ],
      "metadata": {
        "id": "kEoo-kqbabOI"
      },
      "execution_count": null,
      "outputs": []
    },
    {
      "cell_type": "markdown",
      "source": [
        "Vamos carregar novamente os nossos dados, com nova escala nos dados e também sem considerar cores"
      ],
      "metadata": {
        "id": "VC75Aed3fg7q"
      }
    },
    {
      "cell_type": "code",
      "source": [
        "lfw_people = fetch_lfw_people(min_faces_per_person=70, resize=0.4)\n",
        "n_samples, h, w  = lfw_people.images.shape"
      ],
      "metadata": {
        "id": "n-BOlNs8e_TF"
      },
      "execution_count": null,
      "outputs": []
    },
    {
      "cell_type": "markdown",
      "source": [
        "Vamos trabalhar com dados 2D (cada instância é uma matriz de pixels, isto é uma foto)"
      ],
      "metadata": {
        "id": "zEFIkv8ifgMK"
      }
    },
    {
      "cell_type": "code",
      "source": [
        "X = lfw_people.data\n",
        "n_features = X.shape[1]"
      ],
      "metadata": {
        "id": "4e2INKX9ZvDf"
      },
      "execution_count": null,
      "outputs": []
    },
    {
      "cell_type": "markdown",
      "source": [
        "Agora vamos carregar a variável algo"
      ],
      "metadata": {
        "id": "1ZJrgCiFf2TU"
      }
    },
    {
      "cell_type": "code",
      "source": [
        "# the label to predict is the id of the person\n",
        "y = lfw_people.target \n",
        "target_names = lfw_people.target_names\n",
        "n_classes = target_names.shape[0]"
      ],
      "metadata": {
        "id": "XkUAUznBf1yL"
      },
      "execution_count": null,
      "outputs": []
    },
    {
      "cell_type": "markdown",
      "source": [
        "Mostrando na tela as variáveis relevantes"
      ],
      "metadata": {
        "id": "pdZVzeZagDu-"
      }
    },
    {
      "cell_type": "code",
      "source": [
        "print(\"Total dataset size:\")\n",
        "print(\"n_samples: %d\" % n_samples)\n",
        "print(\"n_features: %d\" % n_features)\n",
        "print(\"n_classes: %d\" % n_classes)"
      ],
      "metadata": {
        "id": "u8rSHatnf9Yi"
      },
      "execution_count": null,
      "outputs": []
    },
    {
      "cell_type": "code",
      "source": [
        "print(lfw_people.images.shape)"
      ],
      "metadata": {
        "id": "PW6aDsUXgG86"
      },
      "execution_count": null,
      "outputs": []
    },
    {
      "cell_type": "markdown",
      "source": [
        "O número de features 1850 é exatamente a multiplicação de 50 por 37 ! Aqui utilizamos o chamado \"stacking\" para poder alimentar os dados dentor dos algoritmos de Machine Learning"
      ],
      "metadata": {
        "id": "EEtFUm15gUQd"
      }
    },
    {
      "cell_type": "code",
      "source": [
        "50*37 == 1850"
      ],
      "metadata": {
        "id": "5MttdDMngMJz"
      },
      "execution_count": null,
      "outputs": []
    },
    {
      "cell_type": "markdown",
      "source": [
        "# Separando em treino e teste & preparando dados"
      ],
      "metadata": {
        "id": "0iFE9ovIgwaK"
      }
    },
    {
      "cell_type": "markdown",
      "source": [
        "Vamos separar 25% dos dados para teste final"
      ],
      "metadata": {
        "id": "--LBFzsYg9M3"
      }
    },
    {
      "cell_type": "code",
      "source": [
        "X_train, X_test, y_train, y_test = train_test_split(\n",
        "    X, y, test_size=0.25, random_state=42\n",
        ")\n",
        "\n",
        "scaler = StandardScaler()\n",
        "X_train = scaler.fit_transform(X_train)\n",
        "X_test = scaler.transform(X_test)"
      ],
      "metadata": {
        "id": "A0SjS2FJgRM7"
      },
      "execution_count": null,
      "outputs": []
    },
    {
      "cell_type": "markdown",
      "source": [
        "# Aplicação do PCA"
      ],
      "metadata": {
        "id": "cwrU5uRKjI2_"
      }
    },
    {
      "cell_type": "markdown",
      "source": [
        "Agora vamos utilizar o PCA no nosso conjunto de dados. Esse procedimento é tipicamente chamado de \"eigenfaces\" (eigenvalues + faces).\n",
        "\n",
        "***Você deve notar que o PCA é uma técnicas não supervisionada***, de forma que não utilizaremos os rótulos dos dados"
      ],
      "metadata": {
        "id": "PYadFb0shGPd"
      }
    },
    {
      "cell_type": "code",
      "source": [
        "n_components = 150\n",
        "\n",
        "print(\n",
        "    \"Extraindo as principais %d eigenfaces de %d faces\" % \n",
        "    (n_components, X_train.shape[0])\n",
        ")\n",
        "\n",
        "t0 = time()\n",
        "\n",
        "pca = PCA(\n",
        "    n_components=n_components, \n",
        "    svd_solver=\"randomized\", \n",
        "    whiten=True).fit(X_train)\n",
        "  \n",
        "print(\"PCA computado em %0.3fs\" % (time() - t0))"
      ],
      "metadata": {
        "id": "DUO9_yWMhXXk"
      },
      "execution_count": null,
      "outputs": []
    },
    {
      "cell_type": "markdown",
      "source": [
        "Vamos usar o nosso modelo, PCA, e reconstruir as imagens (lembra que elas estavam transformadas pelo processo de stacking."
      ],
      "metadata": {
        "id": "WaepjzvHicwa"
      }
    },
    {
      "cell_type": "code",
      "source": [
        "eigenfaces = pca.components_.reshape((n_components, h, w))"
      ],
      "metadata": {
        "id": "-dLHGDwRhxi1"
      },
      "execution_count": null,
      "outputs": []
    },
    {
      "cell_type": "markdown",
      "source": [
        "Compare ambas as saídas:"
      ],
      "metadata": {
        "id": "TzhIPJN4jVQv"
      }
    },
    {
      "cell_type": "code",
      "source": [
        "print(\"Original: \" + str(lfw_people.images.shape))\n",
        "print(\"Eigenfaces: \" + str(eigenfaces.shape))\n"
      ],
      "metadata": {
        "id": "IVhotZxsi0wg"
      },
      "execution_count": null,
      "outputs": []
    },
    {
      "cell_type": "markdown",
      "source": [
        "Vamos visualizar algumas das \"componentes principais\" do conjunto de dados"
      ],
      "metadata": {
        "id": "zaYdg0Bdkcxb"
      }
    },
    {
      "cell_type": "code",
      "source": [
        "plt.imshow(eigenfaces[0]/255)"
      ],
      "metadata": {
        "id": "4jiC7zOBkaJe"
      },
      "execution_count": null,
      "outputs": []
    },
    {
      "cell_type": "code",
      "source": [
        "plt.imshow(eigenfaces[100]/255)"
      ],
      "metadata": {
        "id": "KUqguEMkkNYr"
      },
      "execution_count": null,
      "outputs": []
    },
    {
      "cell_type": "markdown",
      "source": [
        "Finalmente, projetamos os dados na base ortonomal do autoespaço (eigenfaces)"
      ],
      "metadata": {
        "id": "7Do_bM4qkykL"
      }
    },
    {
      "cell_type": "code",
      "source": [
        "t0 = time()\n",
        "X_train_pca = pca.transform(X_train)\n",
        "X_test_pca = pca.transform(X_test)\n",
        "print(\"Computado em %0.3fs\" % (time() - t0))"
      ],
      "metadata": {
        "id": "GkZpyV9VjDqw"
      },
      "execution_count": null,
      "outputs": []
    },
    {
      "cell_type": "markdown",
      "source": [
        "# Treinando modelo"
      ],
      "metadata": {
        "id": "NDCi0bZzl4-c"
      }
    },
    {
      "cell_type": "markdown",
      "source": [
        "Vamos treinar um SVM com diferentes valores de \"C\" e $\\gamma$"
      ],
      "metadata": {
        "id": "bpyVQR0xmN-N"
      }
    },
    {
      "cell_type": "code",
      "source": [
        "print(\"Treinando modelo\")\n",
        "\n",
        "t0 = time()\n",
        "\n",
        "param_grid = {\n",
        "    \"C\": loguniform(1e3, 1e5),\n",
        "    \"gamma\": loguniform(1e-4, 1e-1),\n",
        "}\n",
        "\n",
        "clf = RandomizedSearchCV(\n",
        "    SVC(kernel=\"rbf\", class_weight=\"balanced\"), param_grid, n_iter=10\n",
        ")\n",
        "\n",
        "clf = clf.fit(X_train_pca, y_train)\n",
        "\n",
        "print(\"Melhor combinação em 10 iterações: %0.3fs\" % (time() - t0))\n",
        "print(\"Melhor estimador encontrado na busca aleatória:\")\n",
        "print(clf.best_estimator_)"
      ],
      "metadata": {
        "id": "R0cWoXbml6Il"
      },
      "execution_count": null,
      "outputs": []
    },
    {
      "cell_type": "markdown",
      "source": [
        "Revise as vídeos aulas do curso para relemebrar as boas práticas em seleção e validação de modelos. A metodologia adotada aqui é meramente ilustrativa"
      ],
      "metadata": {
        "id": "p6SvFesIq5Wg"
      }
    },
    {
      "cell_type": "markdown",
      "source": [
        "# Testando modelo"
      ],
      "metadata": {
        "id": "RkYiYO4SmkrW"
      }
    },
    {
      "cell_type": "markdown",
      "source": [
        "Agora vamos fazer uma avaliação final do modelo. \n",
        "\n",
        "Lembramos ainda que para fins de estimação da performance final do modelo, o conjunto de teste só deve ser usado uma única vez. Sendo assim, a metodologia aplicada é meramente ilustrativa e qualquer decisão acerca de \"qual é melhor modelo\" deve ser feita em etapas anteriores!"
      ],
      "metadata": {
        "id": "K6yMX3hUmqpn"
      }
    },
    {
      "cell_type": "code",
      "source": [
        "t0 = time()\n",
        "y_pred = clf.predict(X_test_pca)\n",
        "print(\"Feito em in %0.3fs\" % (time() - t0))"
      ],
      "metadata": {
        "id": "rYlvsHXbl7V8"
      },
      "execution_count": null,
      "outputs": []
    },
    {
      "cell_type": "markdown",
      "source": [
        "Vejamos o relatório de classificação:"
      ],
      "metadata": {
        "id": "hxXWCb21nZ0Z"
      }
    },
    {
      "cell_type": "code",
      "source": [
        "print(classification_report(y_test, y_pred, target_names=target_names))"
      ],
      "metadata": {
        "id": "-gzuxAcJncBB"
      },
      "execution_count": null,
      "outputs": []
    },
    {
      "cell_type": "markdown",
      "source": [
        "Olha que linda a nossa matriz de confusão:"
      ],
      "metadata": {
        "id": "gpYJirgWndQL"
      }
    },
    {
      "cell_type": "code",
      "source": [
        "ConfusionMatrixDisplay.from_estimator(\n",
        "    clf, X_test_pca, y_test, \n",
        "    display_labels=target_names, xticks_rotation=\"vertical\"\n",
        ")\n",
        "plt.tight_layout()\n",
        "plt.show()"
      ],
      "metadata": {
        "id": "tqyWPiYCmBwV"
      },
      "execution_count": null,
      "outputs": []
    },
    {
      "cell_type": "markdown",
      "source": [
        "# Avaliação visual"
      ],
      "metadata": {
        "id": "YXSLa2Win0RQ"
      }
    },
    {
      "cell_type": "markdown",
      "source": [
        "Vamos fazer uma inspeção visual do que fizemos até agora. Para isso é importante definir algumas funções auxiliares para plotarmos os resultados\n"
      ],
      "metadata": {
        "id": "RKlXIBN4n5zz"
      }
    },
    {
      "cell_type": "code",
      "source": [
        "def plot_gallery(X_images, titles, h, w, n_row=3, n_col=4):\n",
        "    \"\"\"Função auxiliar para plotar a galeria de fotos\"\"\"\n",
        "    plt.figure(figsize=(1.8 * n_col, 2.4 * n_row))\n",
        "    plt.subplots_adjust(bottom=0, left=0.01, right=0.99, top=0.90, hspace=0.35)\n",
        "    for i in range(n_row * n_col):\n",
        "        plt.subplot(n_row, n_col, i + 1)\n",
        "        plt.imshow(X_images[i].reshape((h, w)), cmap=plt.cm.gray)\n",
        "        plt.title(titles[i], size=12)\n",
        "        plt.xticks(())\n",
        "        plt.yticks(())"
      ],
      "metadata": {
        "id": "fDa-lYdgn5gr"
      },
      "execution_count": null,
      "outputs": []
    },
    {
      "cell_type": "code",
      "source": [
        "def title(y_pred, y_test, target_names, i):\n",
        "  \"\"\"Título das imagens \"\"\"\n",
        "  pred_name = target_names[y_pred[i]].rsplit(\" \", 1)[-1]\n",
        "  true_name = target_names[y_test[i]].rsplit(\" \", 1)[-1]\n",
        "  return \"Predição: %s\\n Real:      %s\" % (pred_name, true_name)\n",
        "\n"
      ],
      "metadata": {
        "id": "Tf-3sCoMnjVG"
      },
      "execution_count": null,
      "outputs": []
    },
    {
      "cell_type": "markdown",
      "source": [
        "Finalmente, vejamos os resultados:"
      ],
      "metadata": {
        "id": "ehJ3qX4zpodJ"
      }
    },
    {
      "cell_type": "code",
      "source": [
        "prediction_titles = [\n",
        "    title(y_pred, y_test, target_names, i) for i in range(y_pred.shape[0])\n",
        "]\n",
        "\n",
        "plot_gallery(X_test, prediction_titles, h, w, 10, 4)"
      ],
      "metadata": {
        "id": "Th0g3MUMprta"
      },
      "execution_count": null,
      "outputs": []
    },
    {
      "cell_type": "code",
      "source": [
        ""
      ],
      "metadata": {
        "id": "ixX9Fwx4psQv"
      },
      "execution_count": null,
      "outputs": []
    }
  ]
}