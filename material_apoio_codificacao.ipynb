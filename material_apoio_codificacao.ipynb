{
  "nbformat": 4,
  "nbformat_minor": 0,
  "metadata": {
    "colab": {
      "name": "Apoio-codificacao.ipynb",
      "provenance": [],
      "collapsed_sections": [],
      "authorship_tag": "ABX9TyMYw4w/55ehIEmSRKc74zoR"
    },
    "kernelspec": {
      "name": "python3",
      "display_name": "Python 3"
    }
  },
  "cells": [
    {
      "cell_type": "markdown",
      "metadata": {
        "id": "9J0zCtc1T94w"
      },
      "source": [
        "**Introdução codificação**\r\n",
        "---\r\n",
        "\r\n",
        "Neste breve nootebook vamos estudar introdução à técnicas de codificação.\r\n",
        "\r\n",
        "\r\n"
      ]
    },
    {
      "cell_type": "code",
      "metadata": {
        "id": "52z-DQgSz8Xj"
      },
      "source": [
        "#Importar principais pacotes\n",
        "import numpy as np\n",
        "import pandas as pd"
      ],
      "execution_count": 3,
      "outputs": []
    },
    {
      "cell_type": "markdown",
      "metadata": {
        "id": "QD0GG3psvIi8"
      },
      "source": [
        "Vamos agora criar um exemplo para ilustrar o conceito:"
      ]
    },
    {
      "cell_type": "code",
      "metadata": {
        "id": "UrzFZTVl0Mcc"
      },
      "source": [
        "d = {'Curso': [\"Engenharia\", \"Engenharia\", \"Física\", \"Jornalismo\", \"Matemática\"], \n",
        "     'Idade': [18, 19, 23, 32, 18],\n",
        "     'Aprovado': [\"S\", \"N\", \"N\", \"N\", \"S\"]\n",
        "     }\n",
        "\n",
        "df = pd.DataFrame(data=d)"
      ],
      "execution_count": 4,
      "outputs": []
    },
    {
      "cell_type": "code",
      "metadata": {
        "id": "yFUGRvJ71xia",
        "colab": {
          "base_uri": "https://localhost:8080/",
          "height": 204
        },
        "outputId": "588ade34-247f-413a-8f1a-67988b4ae758"
      },
      "source": [
        "df"
      ],
      "execution_count": 5,
      "outputs": [
        {
          "output_type": "execute_result",
          "data": {
            "text/html": [
              "<div>\n",
              "<style scoped>\n",
              "    .dataframe tbody tr th:only-of-type {\n",
              "        vertical-align: middle;\n",
              "    }\n",
              "\n",
              "    .dataframe tbody tr th {\n",
              "        vertical-align: top;\n",
              "    }\n",
              "\n",
              "    .dataframe thead th {\n",
              "        text-align: right;\n",
              "    }\n",
              "</style>\n",
              "<table border=\"1\" class=\"dataframe\">\n",
              "  <thead>\n",
              "    <tr style=\"text-align: right;\">\n",
              "      <th></th>\n",
              "      <th>Curso</th>\n",
              "      <th>Idade</th>\n",
              "      <th>Aprovado</th>\n",
              "    </tr>\n",
              "  </thead>\n",
              "  <tbody>\n",
              "    <tr>\n",
              "      <th>0</th>\n",
              "      <td>Engenharia</td>\n",
              "      <td>18</td>\n",
              "      <td>S</td>\n",
              "    </tr>\n",
              "    <tr>\n",
              "      <th>1</th>\n",
              "      <td>Engenharia</td>\n",
              "      <td>19</td>\n",
              "      <td>N</td>\n",
              "    </tr>\n",
              "    <tr>\n",
              "      <th>2</th>\n",
              "      <td>Física</td>\n",
              "      <td>23</td>\n",
              "      <td>N</td>\n",
              "    </tr>\n",
              "    <tr>\n",
              "      <th>3</th>\n",
              "      <td>Jornalismo</td>\n",
              "      <td>32</td>\n",
              "      <td>N</td>\n",
              "    </tr>\n",
              "    <tr>\n",
              "      <th>4</th>\n",
              "      <td>Matemática</td>\n",
              "      <td>18</td>\n",
              "      <td>S</td>\n",
              "    </tr>\n",
              "  </tbody>\n",
              "</table>\n",
              "</div>"
            ],
            "text/plain": [
              "        Curso  Idade Aprovado\n",
              "0  Engenharia     18        S\n",
              "1  Engenharia     19        N\n",
              "2      Física     23        N\n",
              "3  Jornalismo     32        N\n",
              "4  Matemática     18        S"
            ]
          },
          "metadata": {
            "tags": []
          },
          "execution_count": 5
        }
      ]
    },
    {
      "cell_type": "markdown",
      "metadata": {
        "id": "rNIxYbR3uBHF"
      },
      "source": [
        "#Revisão pandas: acessando elementos no dataframe"
      ]
    },
    {
      "cell_type": "markdown",
      "metadata": {
        "id": "TmhV50rES8Cd"
      },
      "source": [
        "Você pode selecionar elementos, colunas ou linhas inteiras no pandas por índices, através do iloc:"
      ]
    },
    {
      "cell_type": "code",
      "metadata": {
        "id": "jkhheukgNoNa",
        "colab": {
          "base_uri": "https://localhost:8080/"
        },
        "outputId": "6fb9471a-bb84-47b5-a546-0e6ab7e55739"
      },
      "source": [
        "df.iloc[:,0] #seleciona a primeira coluna"
      ],
      "execution_count": 6,
      "outputs": [
        {
          "output_type": "execute_result",
          "data": {
            "text/plain": [
              "0    Engenharia\n",
              "1    Engenharia\n",
              "2        Física\n",
              "3    Jornalismo\n",
              "4    Matemática\n",
              "Name: Curso, dtype: object"
            ]
          },
          "metadata": {
            "tags": []
          },
          "execution_count": 6
        }
      ]
    },
    {
      "cell_type": "code",
      "metadata": {
        "colab": {
          "base_uri": "https://localhost:8080/"
        },
        "id": "gmNUI3eATDzf",
        "outputId": "a11d09e6-ec84-46ec-c8ce-bb1afc8135b8"
      },
      "source": [
        "df.iloc[1, :] #Seleciona a segunda linha"
      ],
      "execution_count": 30,
      "outputs": [
        {
          "output_type": "execute_result",
          "data": {
            "text/plain": [
              "Curso       Engenharia\n",
              "Idade               19\n",
              "Aprovado             N\n",
              "Name: 1, dtype: object"
            ]
          },
          "metadata": {
            "tags": []
          },
          "execution_count": 30
        }
      ]
    },
    {
      "cell_type": "markdown",
      "metadata": {
        "id": "aWxHbq9KS7Xd"
      },
      "source": [
        "Alternativamente, você pode selecionar colunas da seguinte maneira:"
      ]
    },
    {
      "cell_type": "code",
      "metadata": {
        "colab": {
          "base_uri": "https://localhost:8080/"
        },
        "id": "pMbGMHkoTsEw",
        "outputId": "8833963b-d04e-4ac2-e83b-2850a4693111"
      },
      "source": [
        "df[\"Curso\"]"
      ],
      "execution_count": 31,
      "outputs": [
        {
          "output_type": "execute_result",
          "data": {
            "text/plain": [
              "0    Engenharia\n",
              "1    Engenharia\n",
              "2        Física\n",
              "3    Jornalismo\n",
              "4    Matemática\n",
              "Name: Curso, dtype: object"
            ]
          },
          "metadata": {
            "tags": []
          },
          "execution_count": 31
        }
      ]
    },
    {
      "cell_type": "markdown",
      "metadata": {
        "id": "sOuA8rLefBHg"
      },
      "source": [
        "# OneHotEncoder\r\n",
        "\r\n",
        "Nessa técnica de codificação, a ideia é essencia é transformar cada uma das colunas categóricas em diversas colunas do tipo one-hot. \r\n",
        "\r\n",
        "Vamos agora importar **[OneHotEncoder](https://scikit-learn.org/stable/modules/generated/sklearn.preprocessing.OneHotEncoder.html)** do sklearn e aplicar ele para transformar os dados categóricos da coluna \"curso\". "
      ]
    },
    {
      "cell_type": "code",
      "metadata": {
        "id": "qJTNFYXgNRTr"
      },
      "source": [
        "from sklearn.preprocessing import OneHotEncoder\n",
        "\n",
        "cat_encoder = OneHotEncoder()\n",
        "var_encoded = cat_encoder.fit_transform(pd.DataFrame(data = df[\"Curso\"]))"
      ],
      "execution_count": 13,
      "outputs": []
    },
    {
      "cell_type": "code",
      "metadata": {
        "id": "UsPiUEpjOkGm",
        "colab": {
          "base_uri": "https://localhost:8080/"
        },
        "outputId": "e96f5219-66ff-41f3-fae6-60097d3cce91"
      },
      "source": [
        "var_encoded #Matriz esparsa!"
      ],
      "execution_count": 14,
      "outputs": [
        {
          "output_type": "execute_result",
          "data": {
            "text/plain": [
              "<5x4 sparse matrix of type '<class 'numpy.float64'>'\n",
              "\twith 5 stored elements in Compressed Sparse Row format>"
            ]
          },
          "metadata": {
            "tags": []
          },
          "execution_count": 14
        }
      ]
    },
    {
      "cell_type": "code",
      "metadata": {
        "id": "l4RllsbwOo8e"
      },
      "source": [
        "df1 = pd.DataFrame(var_encoded.toarray()) #Converter para DataFrame"
      ],
      "execution_count": 15,
      "outputs": []
    },
    {
      "cell_type": "code",
      "metadata": {
        "id": "7KPpkpI1dLBV",
        "colab": {
          "base_uri": "https://localhost:8080/",
          "height": 204
        },
        "outputId": "ba2a573b-80d2-448e-a9ce-4cc1385f54eb"
      },
      "source": [
        "df1"
      ],
      "execution_count": 16,
      "outputs": [
        {
          "output_type": "execute_result",
          "data": {
            "text/html": [
              "<div>\n",
              "<style scoped>\n",
              "    .dataframe tbody tr th:only-of-type {\n",
              "        vertical-align: middle;\n",
              "    }\n",
              "\n",
              "    .dataframe tbody tr th {\n",
              "        vertical-align: top;\n",
              "    }\n",
              "\n",
              "    .dataframe thead th {\n",
              "        text-align: right;\n",
              "    }\n",
              "</style>\n",
              "<table border=\"1\" class=\"dataframe\">\n",
              "  <thead>\n",
              "    <tr style=\"text-align: right;\">\n",
              "      <th></th>\n",
              "      <th>0</th>\n",
              "      <th>1</th>\n",
              "      <th>2</th>\n",
              "      <th>3</th>\n",
              "    </tr>\n",
              "  </thead>\n",
              "  <tbody>\n",
              "    <tr>\n",
              "      <th>0</th>\n",
              "      <td>1.0</td>\n",
              "      <td>0.0</td>\n",
              "      <td>0.0</td>\n",
              "      <td>0.0</td>\n",
              "    </tr>\n",
              "    <tr>\n",
              "      <th>1</th>\n",
              "      <td>1.0</td>\n",
              "      <td>0.0</td>\n",
              "      <td>0.0</td>\n",
              "      <td>0.0</td>\n",
              "    </tr>\n",
              "    <tr>\n",
              "      <th>2</th>\n",
              "      <td>0.0</td>\n",
              "      <td>1.0</td>\n",
              "      <td>0.0</td>\n",
              "      <td>0.0</td>\n",
              "    </tr>\n",
              "    <tr>\n",
              "      <th>3</th>\n",
              "      <td>0.0</td>\n",
              "      <td>0.0</td>\n",
              "      <td>1.0</td>\n",
              "      <td>0.0</td>\n",
              "    </tr>\n",
              "    <tr>\n",
              "      <th>4</th>\n",
              "      <td>0.0</td>\n",
              "      <td>0.0</td>\n",
              "      <td>0.0</td>\n",
              "      <td>1.0</td>\n",
              "    </tr>\n",
              "  </tbody>\n",
              "</table>\n",
              "</div>"
            ],
            "text/plain": [
              "     0    1    2    3\n",
              "0  1.0  0.0  0.0  0.0\n",
              "1  1.0  0.0  0.0  0.0\n",
              "2  0.0  1.0  0.0  0.0\n",
              "3  0.0  0.0  1.0  0.0\n",
              "4  0.0  0.0  0.0  1.0"
            ]
          },
          "metadata": {
            "tags": []
          },
          "execution_count": 16
        }
      ]
    },
    {
      "cell_type": "markdown",
      "metadata": {
        "id": "HRkUV3vPwEFH"
      },
      "source": [
        "Observe a importância de usar o método toarray() para fins de visualizar e/ou utlizar no pandas:"
      ]
    },
    {
      "cell_type": "code",
      "metadata": {
        "id": "BuQA2SW2eLNV",
        "colab": {
          "base_uri": "https://localhost:8080/",
          "height": 204
        },
        "outputId": "1dcd8a11-7fef-4f5f-afc2-1cd117b4744d"
      },
      "source": [
        "pd.DataFrame(var_encoded) #Não queremos!"
      ],
      "execution_count": 17,
      "outputs": [
        {
          "output_type": "execute_result",
          "data": {
            "text/html": [
              "<div>\n",
              "<style scoped>\n",
              "    .dataframe tbody tr th:only-of-type {\n",
              "        vertical-align: middle;\n",
              "    }\n",
              "\n",
              "    .dataframe tbody tr th {\n",
              "        vertical-align: top;\n",
              "    }\n",
              "\n",
              "    .dataframe thead th {\n",
              "        text-align: right;\n",
              "    }\n",
              "</style>\n",
              "<table border=\"1\" class=\"dataframe\">\n",
              "  <thead>\n",
              "    <tr style=\"text-align: right;\">\n",
              "      <th></th>\n",
              "      <th>0</th>\n",
              "    </tr>\n",
              "  </thead>\n",
              "  <tbody>\n",
              "    <tr>\n",
              "      <th>0</th>\n",
              "      <td>(0, 0)\\t1.0</td>\n",
              "    </tr>\n",
              "    <tr>\n",
              "      <th>1</th>\n",
              "      <td>(0, 0)\\t1.0</td>\n",
              "    </tr>\n",
              "    <tr>\n",
              "      <th>2</th>\n",
              "      <td>(0, 1)\\t1.0</td>\n",
              "    </tr>\n",
              "    <tr>\n",
              "      <th>3</th>\n",
              "      <td>(0, 2)\\t1.0</td>\n",
              "    </tr>\n",
              "    <tr>\n",
              "      <th>4</th>\n",
              "      <td>(0, 3)\\t1.0</td>\n",
              "    </tr>\n",
              "  </tbody>\n",
              "</table>\n",
              "</div>"
            ],
            "text/plain": [
              "               0\n",
              "0    (0, 0)\\t1.0\n",
              "1    (0, 0)\\t1.0\n",
              "2    (0, 1)\\t1.0\n",
              "3    (0, 2)\\t1.0\n",
              "4    (0, 3)\\t1.0"
            ]
          },
          "metadata": {
            "tags": []
          },
          "execution_count": 17
        }
      ]
    },
    {
      "cell_type": "markdown",
      "metadata": {
        "id": "XTyyP1aet4Xd"
      },
      "source": [
        " Agora ficará claro porque OneHoteEnconder: cada valor possível do atributo \"Curso\" é transformado em uma coluna.\r\n",
        "\r\n",
        " Na tabela a seguir, você deve entender o seguinte:\r\n",
        "\r\n",
        " Coluna 0 - Engenhar? Sim (hot) = 1, não (cold) = 0.\r\n",
        "\r\n",
        " Coluna 1 - Física? Sim (hot) = 1, não (cold) = 0.\r\n",
        "\r\n",
        " Coluna 2 - Jornalismo? ....\r\n",
        " \r\n",
        " Coluna 3 - Matemática? ....\r\n"
      ]
    },
    {
      "cell_type": "code",
      "metadata": {
        "colab": {
          "base_uri": "https://localhost:8080/",
          "height": 204
        },
        "id": "qMmPPnftzdRJ",
        "outputId": "b7bbf30a-6dbf-4662-d3b3-57e488c57497"
      },
      "source": [
        "df1"
      ],
      "execution_count": 22,
      "outputs": [
        {
          "output_type": "execute_result",
          "data": {
            "text/html": [
              "<div>\n",
              "<style scoped>\n",
              "    .dataframe tbody tr th:only-of-type {\n",
              "        vertical-align: middle;\n",
              "    }\n",
              "\n",
              "    .dataframe tbody tr th {\n",
              "        vertical-align: top;\n",
              "    }\n",
              "\n",
              "    .dataframe thead th {\n",
              "        text-align: right;\n",
              "    }\n",
              "</style>\n",
              "<table border=\"1\" class=\"dataframe\">\n",
              "  <thead>\n",
              "    <tr style=\"text-align: right;\">\n",
              "      <th></th>\n",
              "      <th>0</th>\n",
              "      <th>1</th>\n",
              "      <th>2</th>\n",
              "      <th>3</th>\n",
              "    </tr>\n",
              "  </thead>\n",
              "  <tbody>\n",
              "    <tr>\n",
              "      <th>0</th>\n",
              "      <td>1.0</td>\n",
              "      <td>0.0</td>\n",
              "      <td>0.0</td>\n",
              "      <td>0.0</td>\n",
              "    </tr>\n",
              "    <tr>\n",
              "      <th>1</th>\n",
              "      <td>1.0</td>\n",
              "      <td>0.0</td>\n",
              "      <td>0.0</td>\n",
              "      <td>0.0</td>\n",
              "    </tr>\n",
              "    <tr>\n",
              "      <th>2</th>\n",
              "      <td>0.0</td>\n",
              "      <td>1.0</td>\n",
              "      <td>0.0</td>\n",
              "      <td>0.0</td>\n",
              "    </tr>\n",
              "    <tr>\n",
              "      <th>3</th>\n",
              "      <td>0.0</td>\n",
              "      <td>0.0</td>\n",
              "      <td>1.0</td>\n",
              "      <td>0.0</td>\n",
              "    </tr>\n",
              "    <tr>\n",
              "      <th>4</th>\n",
              "      <td>0.0</td>\n",
              "      <td>0.0</td>\n",
              "      <td>0.0</td>\n",
              "      <td>1.0</td>\n",
              "    </tr>\n",
              "  </tbody>\n",
              "</table>\n",
              "</div>"
            ],
            "text/plain": [
              "     0    1    2    3\n",
              "0  1.0  0.0  0.0  0.0\n",
              "1  1.0  0.0  0.0  0.0\n",
              "2  0.0  1.0  0.0  0.0\n",
              "3  0.0  0.0  1.0  0.0\n",
              "4  0.0  0.0  0.0  1.0"
            ]
          },
          "metadata": {
            "tags": []
          },
          "execution_count": 22
        }
      ]
    },
    {
      "cell_type": "code",
      "metadata": {
        "colab": {
          "base_uri": "https://localhost:8080/",
          "height": 204
        },
        "id": "xKagtTprzgBn",
        "outputId": "3a71f930-f15d-44e7-d6f2-d6b92317bc15"
      },
      "source": [
        "df"
      ],
      "execution_count": 23,
      "outputs": [
        {
          "output_type": "execute_result",
          "data": {
            "text/html": [
              "<div>\n",
              "<style scoped>\n",
              "    .dataframe tbody tr th:only-of-type {\n",
              "        vertical-align: middle;\n",
              "    }\n",
              "\n",
              "    .dataframe tbody tr th {\n",
              "        vertical-align: top;\n",
              "    }\n",
              "\n",
              "    .dataframe thead th {\n",
              "        text-align: right;\n",
              "    }\n",
              "</style>\n",
              "<table border=\"1\" class=\"dataframe\">\n",
              "  <thead>\n",
              "    <tr style=\"text-align: right;\">\n",
              "      <th></th>\n",
              "      <th>Curso</th>\n",
              "      <th>Idade</th>\n",
              "      <th>Aprovado</th>\n",
              "    </tr>\n",
              "  </thead>\n",
              "  <tbody>\n",
              "    <tr>\n",
              "      <th>0</th>\n",
              "      <td>Engenharia</td>\n",
              "      <td>18</td>\n",
              "      <td>S</td>\n",
              "    </tr>\n",
              "    <tr>\n",
              "      <th>1</th>\n",
              "      <td>Engenharia</td>\n",
              "      <td>19</td>\n",
              "      <td>N</td>\n",
              "    </tr>\n",
              "    <tr>\n",
              "      <th>2</th>\n",
              "      <td>Física</td>\n",
              "      <td>23</td>\n",
              "      <td>N</td>\n",
              "    </tr>\n",
              "    <tr>\n",
              "      <th>3</th>\n",
              "      <td>Jornalismo</td>\n",
              "      <td>32</td>\n",
              "      <td>N</td>\n",
              "    </tr>\n",
              "    <tr>\n",
              "      <th>4</th>\n",
              "      <td>Matemática</td>\n",
              "      <td>18</td>\n",
              "      <td>S</td>\n",
              "    </tr>\n",
              "  </tbody>\n",
              "</table>\n",
              "</div>"
            ],
            "text/plain": [
              "        Curso  Idade Aprovado\n",
              "0  Engenharia     18        S\n",
              "1  Engenharia     19        N\n",
              "2      Física     23        N\n",
              "3  Jornalismo     32        N\n",
              "4  Matemática     18        S"
            ]
          },
          "metadata": {
            "tags": []
          },
          "execution_count": 23
        }
      ]
    },
    {
      "cell_type": "markdown",
      "metadata": {
        "id": "zINhZ5BgwVAK"
      },
      "source": [
        "#OrdinalEnconder"
      ]
    },
    {
      "cell_type": "markdown",
      "metadata": {
        "id": "4JGH_ckJwXUy"
      },
      "source": [
        "Agora veremos outra técnica de codificação, chamada de codificação ordinal. De acordo com a documentação do [sklearn](https://scikit-learn.org/stable/modules/generated/sklearn.preprocessing.OrdinalEncoder.html):\r\n",
        "\r\n",
        "A entrada para esse transformador deve ser semelhante a uma matriz de inteiros ou strings, representando uma vetor com dados categóricos (discretos). Dessa forma, os valores são convertidos em inteiros ordinais, resultando em uma **única** coluna de inteiros (0 a n_categorias - 1) para cada feature transformada.\r\n"
      ]
    },
    {
      "cell_type": "code",
      "metadata": {
        "id": "ZZrZWxQwO9gi"
      },
      "source": [
        "from sklearn.preprocessing import OrdinalEncoder\n",
        "cat_encoder2 = OrdinalEncoder()\n",
        "var_encoded2 = cat_encoder2.fit_transform(pd.DataFrame(data = df[\"Aprovado\"]))\n",
        "df2 = pd.DataFrame(data = var_encoded2) #Converter para DataFrame"
      ],
      "execution_count": 19,
      "outputs": []
    },
    {
      "cell_type": "markdown",
      "metadata": {
        "id": "qNR1uPNFyZjy"
      },
      "source": [
        "Apesar disso é possível usar o [LabelEnconder](https://scikit-learn.org/stable/modules/preprocessing_targets.html#preprocessing-targets), que terá resultado similar. Mas importante você saber o seguinte:\r\n",
        "\r\n",
        "\r\n",
        "*   OrdinalEncoder é usado parar converter features (X), enquanto LabelEncoder é para variáveis alvos (y). Aqui o nosso exemplo contém apenas uma feature categórica, o que não faz muita diferença no final das contas.\r\n",
        "\r\n",
        "*   É importante observar que OrdinalEncoder pode ajustar dados que têm a forma de (n_samples, n_features), enquanto LabelEncoder só pode ajustar dados que têm a forma de (n_samples,). Neste\r\n"
      ]
    },
    {
      "cell_type": "markdown",
      "metadata": {
        "id": "ti5Fpny6zLPF"
      },
      "source": [
        "Usando de concatenação do pandas, obtem-se:"
      ]
    },
    {
      "cell_type": "code",
      "metadata": {
        "colab": {
          "base_uri": "https://localhost:8080/"
        },
        "id": "gWgSYNFQuiyq",
        "outputId": "55c9e29f-604c-4b48-d80b-94529912bb54"
      },
      "source": [
        "df.columns"
      ],
      "execution_count": 36,
      "outputs": [
        {
          "output_type": "execute_result",
          "data": {
            "text/plain": [
              "Index(['Curso', 'Idade', 'Aprovado'], dtype='object')"
            ]
          },
          "metadata": {
            "tags": []
          },
          "execution_count": 36
        }
      ]
    },
    {
      "cell_type": "code",
      "metadata": {
        "colab": {
          "base_uri": "https://localhost:8080/"
        },
        "id": "-Svxu9vyvIA8",
        "outputId": "4cd9132c-db5d-40c1-e22d-e0bd38ae1883"
      },
      "source": [
        "list(df[\"Curso\"].unique())"
      ],
      "execution_count": 50,
      "outputs": [
        {
          "output_type": "execute_result",
          "data": {
            "text/plain": [
              "['Engenharia', 'Física', 'Jornalismo', 'Matemática']"
            ]
          },
          "metadata": {
            "tags": []
          },
          "execution_count": 50
        }
      ]
    },
    {
      "cell_type": "code",
      "metadata": {
        "colab": {
          "base_uri": "https://localhost:8080/"
        },
        "id": "oOfEZeuUuuj2",
        "outputId": "5aa40bf4-f11b-47dd-d517-e816b0a1e223"
      },
      "source": [
        "list(df.columns[1:])"
      ],
      "execution_count": 47,
      "outputs": [
        {
          "output_type": "execute_result",
          "data": {
            "text/plain": [
              "['Idade', 'Aprovado']"
            ]
          },
          "metadata": {
            "tags": []
          },
          "execution_count": 47
        }
      ]
    },
    {
      "cell_type": "code",
      "metadata": {
        "id": "nx-xQMy4zHF9"
      },
      "source": [
        "df_final = pd.concat([df1, df[\"Idade\"], df2], axis = 1)\r\n",
        "\r\n",
        "df_final.columns = list(df[\"Curso\"].unique()) + list(df.columns[1:]) \r\n",
        "#Não é a maneira mais efetiva de buscar os nomes das colunas, mas resolve rapidamente"
      ],
      "execution_count": 53,
      "outputs": []
    },
    {
      "cell_type": "code",
      "metadata": {
        "colab": {
          "base_uri": "https://localhost:8080/",
          "height": 204
        },
        "id": "5PCjJciIzQ47",
        "outputId": "37d90a0d-9cda-41d3-acca-1c2edcff0629"
      },
      "source": [
        "df_final"
      ],
      "execution_count": 52,
      "outputs": [
        {
          "output_type": "execute_result",
          "data": {
            "text/html": [
              "<div>\n",
              "<style scoped>\n",
              "    .dataframe tbody tr th:only-of-type {\n",
              "        vertical-align: middle;\n",
              "    }\n",
              "\n",
              "    .dataframe tbody tr th {\n",
              "        vertical-align: top;\n",
              "    }\n",
              "\n",
              "    .dataframe thead th {\n",
              "        text-align: right;\n",
              "    }\n",
              "</style>\n",
              "<table border=\"1\" class=\"dataframe\">\n",
              "  <thead>\n",
              "    <tr style=\"text-align: right;\">\n",
              "      <th></th>\n",
              "      <th>Engenharia</th>\n",
              "      <th>Física</th>\n",
              "      <th>Jornalismo</th>\n",
              "      <th>Matemática</th>\n",
              "      <th>Idade</th>\n",
              "      <th>Aprovado</th>\n",
              "    </tr>\n",
              "  </thead>\n",
              "  <tbody>\n",
              "    <tr>\n",
              "      <th>0</th>\n",
              "      <td>1.0</td>\n",
              "      <td>0.0</td>\n",
              "      <td>0.0</td>\n",
              "      <td>0.0</td>\n",
              "      <td>18</td>\n",
              "      <td>1.0</td>\n",
              "    </tr>\n",
              "    <tr>\n",
              "      <th>1</th>\n",
              "      <td>1.0</td>\n",
              "      <td>0.0</td>\n",
              "      <td>0.0</td>\n",
              "      <td>0.0</td>\n",
              "      <td>19</td>\n",
              "      <td>0.0</td>\n",
              "    </tr>\n",
              "    <tr>\n",
              "      <th>2</th>\n",
              "      <td>0.0</td>\n",
              "      <td>1.0</td>\n",
              "      <td>0.0</td>\n",
              "      <td>0.0</td>\n",
              "      <td>23</td>\n",
              "      <td>0.0</td>\n",
              "    </tr>\n",
              "    <tr>\n",
              "      <th>3</th>\n",
              "      <td>0.0</td>\n",
              "      <td>0.0</td>\n",
              "      <td>1.0</td>\n",
              "      <td>0.0</td>\n",
              "      <td>32</td>\n",
              "      <td>0.0</td>\n",
              "    </tr>\n",
              "    <tr>\n",
              "      <th>4</th>\n",
              "      <td>0.0</td>\n",
              "      <td>0.0</td>\n",
              "      <td>0.0</td>\n",
              "      <td>1.0</td>\n",
              "      <td>18</td>\n",
              "      <td>1.0</td>\n",
              "    </tr>\n",
              "  </tbody>\n",
              "</table>\n",
              "</div>"
            ],
            "text/plain": [
              "   Engenharia  Física  Jornalismo  Matemática  Idade  Aprovado\n",
              "0         1.0     0.0         0.0         0.0     18       1.0\n",
              "1         1.0     0.0         0.0         0.0     19       0.0\n",
              "2         0.0     1.0         0.0         0.0     23       0.0\n",
              "3         0.0     0.0         1.0         0.0     32       0.0\n",
              "4         0.0     0.0         0.0         1.0     18       1.0"
            ]
          },
          "metadata": {
            "tags": []
          },
          "execution_count": 52
        }
      ]
    },
    {
      "cell_type": "code",
      "metadata": {
        "id": "4Uu9kY_quKQB"
      },
      "source": [
        ""
      ],
      "execution_count": null,
      "outputs": []
    }
  ]
}