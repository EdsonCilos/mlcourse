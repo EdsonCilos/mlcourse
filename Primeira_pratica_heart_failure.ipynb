{
  "nbformat": 4,
  "nbformat_minor": 0,
  "metadata": {
    "colab": {
      "name": "Primeira-pratica-heart-failure.ipynb",
      "provenance": []
    },
    "kernelspec": {
      "name": "python3",
      "display_name": "Python 3"
    }
  },
  "cells": [
    {
      "cell_type": "markdown",
      "metadata": {
        "id": "iunQfrzoxR_b"
      },
      "source": [
        "Autor: Professor Edson C. V. Júnior\r\n",
        "\r\n",
        "Linkedin: https://www.linkedin.com/in/edson-j%C3%BAnior-032a66162/"
      ]
    },
    {
      "cell_type": "markdown",
      "metadata": {
        "id": "cUkrJH_3ykr_"
      },
      "source": [
        "#Introdução"
      ]
    },
    {
      "cell_type": "markdown",
      "metadata": {
        "id": "GqQ-aVvLxY_z"
      },
      "source": [
        "Neste pequeno projeto vamos ilustrar a aplicação de alguns modelos de Machine Learning, tais como  Regressão Logística, kNN, Decision Tree, Random Forest e Support Vector Machine, em um problema envolvendo pacientes com problemas cardíacos. O objetivo é criar um modelo capaz de \"prever\" se um determinado indivíduo virá a óbito.\r\n",
        "\r\n",
        "Os dados são do artigo: *Davide Chicco, Giuseppe Jurman: Machine learning can predict survival of patients with heart failure from serum creatinine and ejection fraction alone. BMC Medical Informatics and Decision Making 20, 16 (2020).* Você encontra  [aqui.](https://bmcmedinformdecismak.biomedcentral.com/articles/10.1186/s12911-020-1023-5)\r\n",
        "\r\n",
        "\r\n",
        "\r\n",
        "Não é a intenção desse notebook ilustrar as etapas completas de um projeto de Machine Learning, servindo tão somente como um primeiro passeio pelos algoritmos. \r\n",
        "\r\n",
        "Algumas considerações foram feitas afim de evitar alguns erros conceituais típicos de iniciantes no assunto, mas que se não forem tratados desde já podem ser um grande problema no futuro."
      ]
    },
    {
      "cell_type": "markdown",
      "metadata": {
        "id": "LBEaxZkj0KwO"
      },
      "source": [
        "#Setup"
      ]
    },
    {
      "cell_type": "markdown",
      "metadata": {
        "id": "PKHqb5LB0OGf"
      },
      "source": [
        "Começamos importando o pandas e fixando a semente aleatória"
      ]
    },
    {
      "cell_type": "code",
      "metadata": {
        "id": "2WbD8Ol3qjir"
      },
      "source": [
        "import pandas as pd\r\n",
        "seed = 0 # Fixar a semente aleatória dos algoritmos"
      ],
      "execution_count": 26,
      "outputs": []
    },
    {
      "cell_type": "markdown",
      "metadata": {
        "id": "HAav20nM0XLb"
      },
      "source": [
        "Vamos carregar o dataset e visualizar o conjunto de dados. \r\n Aqui a importação dos dados presume que o código está sendo executado no mesmo diretório que contém o arquivo. \r\n",
        "\r\n",
        "\r\n",
        "*   É legal visualizar o dataset para verificar um pouco da sua estrutura.\r\n",
        "*   Existem outras maneiras mais espertas de carregar um dataset. Poderia ser por exemplo à partir da própria internet, através de um link http.\r\n",
        "\r\n",
        "\r\n",
        "\r\n"
      ]
    },
    {
      "cell_type": "code",
      "metadata": {
        "colab": {
          "base_uri": "https://localhost:8080/",
          "height": 204
        },
        "id": "29md02140mGO",
        "outputId": "55e7eb7c-d1fe-4e5e-afe8-045817e52e6b"
      },
      "source": [
        "data = pd.read_csv('heart_failure.csv')\r\n",
        "data.head()"
      ],
      "execution_count": 27,
      "outputs": [
        {
          "output_type": "execute_result",
          "data": {
            "text/html": [
              "<div>\n",
              "<style scoped>\n",
              "    .dataframe tbody tr th:only-of-type {\n",
              "        vertical-align: middle;\n",
              "    }\n",
              "\n",
              "    .dataframe tbody tr th {\n",
              "        vertical-align: top;\n",
              "    }\n",
              "\n",
              "    .dataframe thead th {\n",
              "        text-align: right;\n",
              "    }\n",
              "</style>\n",
              "<table border=\"1\" class=\"dataframe\">\n",
              "  <thead>\n",
              "    <tr style=\"text-align: right;\">\n",
              "      <th></th>\n",
              "      <th>age</th>\n",
              "      <th>anaemia</th>\n",
              "      <th>creatinine_phosphokinase</th>\n",
              "      <th>diabetes</th>\n",
              "      <th>ejection_fraction</th>\n",
              "      <th>high_blood_pressure</th>\n",
              "      <th>platelets</th>\n",
              "      <th>serum_creatinine</th>\n",
              "      <th>serum_sodium</th>\n",
              "      <th>sex</th>\n",
              "      <th>smoking</th>\n",
              "      <th>time</th>\n",
              "      <th>DEATH_EVENT</th>\n",
              "    </tr>\n",
              "  </thead>\n",
              "  <tbody>\n",
              "    <tr>\n",
              "      <th>0</th>\n",
              "      <td>75.0</td>\n",
              "      <td>0</td>\n",
              "      <td>582</td>\n",
              "      <td>0</td>\n",
              "      <td>20</td>\n",
              "      <td>1</td>\n",
              "      <td>265000.00</td>\n",
              "      <td>1.9</td>\n",
              "      <td>130</td>\n",
              "      <td>1</td>\n",
              "      <td>0</td>\n",
              "      <td>4</td>\n",
              "      <td>1</td>\n",
              "    </tr>\n",
              "    <tr>\n",
              "      <th>1</th>\n",
              "      <td>55.0</td>\n",
              "      <td>0</td>\n",
              "      <td>7861</td>\n",
              "      <td>0</td>\n",
              "      <td>38</td>\n",
              "      <td>0</td>\n",
              "      <td>263358.03</td>\n",
              "      <td>1.1</td>\n",
              "      <td>136</td>\n",
              "      <td>1</td>\n",
              "      <td>0</td>\n",
              "      <td>6</td>\n",
              "      <td>1</td>\n",
              "    </tr>\n",
              "    <tr>\n",
              "      <th>2</th>\n",
              "      <td>65.0</td>\n",
              "      <td>0</td>\n",
              "      <td>146</td>\n",
              "      <td>0</td>\n",
              "      <td>20</td>\n",
              "      <td>0</td>\n",
              "      <td>162000.00</td>\n",
              "      <td>1.3</td>\n",
              "      <td>129</td>\n",
              "      <td>1</td>\n",
              "      <td>1</td>\n",
              "      <td>7</td>\n",
              "      <td>1</td>\n",
              "    </tr>\n",
              "    <tr>\n",
              "      <th>3</th>\n",
              "      <td>50.0</td>\n",
              "      <td>1</td>\n",
              "      <td>111</td>\n",
              "      <td>0</td>\n",
              "      <td>20</td>\n",
              "      <td>0</td>\n",
              "      <td>210000.00</td>\n",
              "      <td>1.9</td>\n",
              "      <td>137</td>\n",
              "      <td>1</td>\n",
              "      <td>0</td>\n",
              "      <td>7</td>\n",
              "      <td>1</td>\n",
              "    </tr>\n",
              "    <tr>\n",
              "      <th>4</th>\n",
              "      <td>65.0</td>\n",
              "      <td>1</td>\n",
              "      <td>160</td>\n",
              "      <td>1</td>\n",
              "      <td>20</td>\n",
              "      <td>0</td>\n",
              "      <td>327000.00</td>\n",
              "      <td>2.7</td>\n",
              "      <td>116</td>\n",
              "      <td>0</td>\n",
              "      <td>0</td>\n",
              "      <td>8</td>\n",
              "      <td>1</td>\n",
              "    </tr>\n",
              "  </tbody>\n",
              "</table>\n",
              "</div>"
            ],
            "text/plain": [
              "    age  anaemia  creatinine_phosphokinase  ...  smoking  time  DEATH_EVENT\n",
              "0  75.0        0                       582  ...        0     4            1\n",
              "1  55.0        0                      7861  ...        0     6            1\n",
              "2  65.0        0                       146  ...        1     7            1\n",
              "3  50.0        1                       111  ...        0     7            1\n",
              "4  65.0        1                       160  ...        0     8            1\n",
              "\n",
              "[5 rows x 13 columns]"
            ]
          },
          "metadata": {
            "tags": []
          },
          "execution_count": 27
        }
      ]
    },
    {
      "cell_type": "markdown",
      "metadata": {
        "id": "5t8hqbuptpOw"
      },
      "source": [
        "Você pode verificar com mais detalhes o significado de cada um dos atributos aqui nesse [link](https://bmcmedinformdecismak.biomedcentral.com/articles/10.1186/s12911-020-1023-5/tables/1)."
      ]
    },
    {
      "cell_type": "markdown",
      "metadata": {
        "id": "0EsZ7XwVsTsx"
      },
      "source": [
        "Vamos escrever na matriz X as features e no vetor Y os rótulos associados. \r\n",
        "\r\n",
        "\r\n"
      ]
    },
    {
      "cell_type": "code",
      "metadata": {
        "id": "lRU1noi0sSpd"
      },
      "source": [
        "X = data.iloc[:, 0:-1].values #features: da primeira até a penúltima coluna\r\n",
        "y = data.iloc[:, -1].values #rótulo: última coluna"
      ],
      "execution_count": 28,
      "outputs": []
    },
    {
      "cell_type": "markdown",
      "metadata": {
        "id": "esxxRJ2hs3_4"
      },
      "source": [
        "Começamos separando o conjunto de treino e teste O pré-processamento, se feito no conjunto completo, não pode introduzir  informações futura no conjunto de treino. É importante salientar que se você deseja uma estimativa do erro de generalização, que é dado em termos de uma probabilidade independente do conjunto de treino, você deve usar o conjunto de teste uma única vez!"
      ]
    },
    {
      "cell_type": "code",
      "metadata": {
        "id": "5M345Qvms77k"
      },
      "source": [
        "from sklearn.model_selection import train_test_split\r\n",
        "\r\n",
        "X_train, X_test, y_train, y_test = train_test_split(X, \r\n",
        "                                                    y, \r\n",
        "                                                    test_size = 1/3, \r\n",
        "                                                    random_state = seed)"
      ],
      "execution_count": 29,
      "outputs": []
    },
    {
      "cell_type": "markdown",
      "metadata": {
        "id": "cNTfDYAUuJSR"
      },
      "source": [
        "Separar o conjunto de treino em duas partes, uma será usada para validação. Faremos isso pois queremos treinar alguns modelos e verificar qual deles é o melhor candidato para generalização. Dito isto, dado que só devemos usar o \r\n",
        "conjunto de teste uma única vez, devemos fazer a decisão da escolha do \r\n",
        "melhor modelo \"no próprio conjunto de treino\". "
      ]
    },
    {
      "cell_type": "code",
      "metadata": {
        "id": "gUGb9-9LuMD0"
      },
      "source": [
        "X_train_2, X_val, y_train_2, y_val = train_test_split(X_train,\r\n",
        "                                                      y_train, \r\n",
        "                                                      test_size = 1/3, \r\n",
        "                                                      random_state = seed)"
      ],
      "execution_count": 30,
      "outputs": []
    },
    {
      "cell_type": "markdown",
      "metadata": {
        "id": "ARhJeiaauS7K"
      },
      "source": [
        "Tipicamente os algoritmos necessitam que todas as características estejam em faixas similares de intervalos, por isso a importância de colocar todos os atributos na mesma escala."
      ]
    },
    {
      "cell_type": "code",
      "metadata": {
        "id": "PiSk_STbuPcE"
      },
      "source": [
        "# Feature Scaling: alguns algoritmos são sensíveis à escala\r\n",
        "from sklearn.preprocessing import MinMaxScaler\r\n",
        "scaler = MinMaxScaler()\r\n",
        "X_train_2 = scaler.fit_transform(X_train_2)\r\n",
        "X_val = scaler.transform(X_val)"
      ],
      "execution_count": 31,
      "outputs": []
    },
    {
      "cell_type": "markdown",
      "metadata": {
        "id": "UXvJ-gaWujVv"
      },
      "source": [
        "Agora vamos avaliar diversos modelos para encontrar o melhor candidato. \r\n",
        "Faremos isso da maneira \"feia\" apenas por uma questão de simplicidade, mas\r\n",
        "veremos ao longo do nosso curso uma maneira mais elegante de procurar o melhor\r\n",
        "modelo através de uma grade de busca."
      ]
    },
    {
      "cell_type": "code",
      "metadata": {
        "id": "tbnazLMkugDN"
      },
      "source": [
        "#Dicionário de resultados\r\n",
        "dic = {}"
      ],
      "execution_count": 32,
      "outputs": []
    },
    {
      "cell_type": "markdown",
      "metadata": {
        "id": "xgVUnd7auquj"
      },
      "source": [
        "Para comparar os resultados vamos usar a acurácia\r\n"
      ]
    },
    {
      "cell_type": "code",
      "metadata": {
        "id": "O5yoX_tGunlB"
      },
      "source": [
        "from sklearn.metrics import accuracy_score"
      ],
      "execution_count": 33,
      "outputs": []
    },
    {
      "cell_type": "markdown",
      "metadata": {
        "id": "LDqIGFi5uv-l"
      },
      "source": [
        "#Regressão Logística"
      ]
    },
    {
      "cell_type": "code",
      "metadata": {
        "colab": {
          "base_uri": "https://localhost:8080/"
        },
        "id": "IAjuo5QKuujG",
        "outputId": "0b49d460-5b54-4350-e0c8-7cf80311c17b"
      },
      "source": [
        "from sklearn.linear_model import LogisticRegression\r\n",
        "lr = LogisticRegression(random_state = seed)\r\n",
        "lr.fit(X_train_2, y_train_2)"
      ],
      "execution_count": 34,
      "outputs": [
        {
          "output_type": "execute_result",
          "data": {
            "text/plain": [
              "LogisticRegression(C=1.0, class_weight=None, dual=False, fit_intercept=True,\n",
              "                   intercept_scaling=1, l1_ratio=None, max_iter=100,\n",
              "                   multi_class='auto', n_jobs=None, penalty='l2',\n",
              "                   random_state=0, solver='lbfgs', tol=0.0001, verbose=0,\n",
              "                   warm_start=False)"
            ]
          },
          "metadata": {
            "tags": []
          },
          "execution_count": 34
        }
      ]
    },
    {
      "cell_type": "code",
      "metadata": {
        "id": "dgIDCfadu30t"
      },
      "source": [
        "# Avaliando a regressão logística e anotando no dicionário\r\n",
        "dic[\"Logistic_regression\"] = accuracy_score(y_val, lr.predict(X_val))"
      ],
      "execution_count": 35,
      "outputs": []
    },
    {
      "cell_type": "markdown",
      "metadata": {
        "id": "34xHbr0nvCUS"
      },
      "source": [
        "#kNN"
      ]
    },
    {
      "cell_type": "code",
      "metadata": {
        "colab": {
          "base_uri": "https://localhost:8080/"
        },
        "id": "MHEwfGzFvDvc",
        "outputId": "54dba788-b7bc-4731-9274-4d722378c856"
      },
      "source": [
        "# Treinando o k-NN\r\n",
        "from sklearn.neighbors import KNeighborsClassifier\r\n",
        "knn = KNeighborsClassifier(n_neighbors = 7)\r\n",
        "knn.fit(X_train_2, y_train_2)"
      ],
      "execution_count": 36,
      "outputs": [
        {
          "output_type": "execute_result",
          "data": {
            "text/plain": [
              "KNeighborsClassifier(algorithm='auto', leaf_size=30, metric='minkowski',\n",
              "                     metric_params=None, n_jobs=None, n_neighbors=7, p=2,\n",
              "                     weights='uniform')"
            ]
          },
          "metadata": {
            "tags": []
          },
          "execution_count": 36
        }
      ]
    },
    {
      "cell_type": "code",
      "metadata": {
        "id": "eyaPLpcxvGg9"
      },
      "source": [
        "# Avaliando o k-NN e anotando no dicionário\r\n",
        "dic[\"kNN_7\"] =  accuracy_score(y_val, knn.predict(X_val))"
      ],
      "execution_count": 37,
      "outputs": []
    },
    {
      "cell_type": "markdown",
      "metadata": {
        "id": "2wEJV_FJvQUF"
      },
      "source": [
        "#Decision Tree"
      ]
    },
    {
      "cell_type": "code",
      "metadata": {
        "colab": {
          "base_uri": "https://localhost:8080/"
        },
        "id": "Gszg33CDvUsJ",
        "outputId": "5701af80-d5fc-4a33-8f56-0598b1550572"
      },
      "source": [
        "#Treinando uma árvore de decisão\r\n",
        "from sklearn.tree import DecisionTreeClassifier\r\n",
        "tree = DecisionTreeClassifier(max_depth = 4, random_state = seed)\r\n",
        "tree.fit(X_train_2, y_train_2)"
      ],
      "execution_count": 38,
      "outputs": [
        {
          "output_type": "execute_result",
          "data": {
            "text/plain": [
              "DecisionTreeClassifier(ccp_alpha=0.0, class_weight=None, criterion='gini',\n",
              "                       max_depth=4, max_features=None, max_leaf_nodes=None,\n",
              "                       min_impurity_decrease=0.0, min_impurity_split=None,\n",
              "                       min_samples_leaf=1, min_samples_split=2,\n",
              "                       min_weight_fraction_leaf=0.0, presort='deprecated',\n",
              "                       random_state=0, splitter='best')"
            ]
          },
          "metadata": {
            "tags": []
          },
          "execution_count": 38
        }
      ]
    },
    {
      "cell_type": "code",
      "metadata": {
        "id": "xsV1jvP5vVWk"
      },
      "source": [
        "# Avaliando a árvore e anotando no dicionário\r\n",
        "dic[\"Decision_tree_4\"] = accuracy_score(y_val, tree.predict(X_val))"
      ],
      "execution_count": 39,
      "outputs": []
    },
    {
      "cell_type": "markdown",
      "metadata": {
        "id": "vo47phTpvvim"
      },
      "source": [
        "#Random Forest"
      ]
    },
    {
      "cell_type": "code",
      "metadata": {
        "id": "f6vyWTRgvwDj"
      },
      "source": [
        "#Treinando uma floresta aleatória\r\n",
        "from sklearn.ensemble import RandomForestClassifier\r\n",
        "\r\n",
        "rf = RandomForestClassifier(n_estimators= 100, \r\n",
        "                            random_state = seed)"
      ],
      "execution_count": 40,
      "outputs": []
    },
    {
      "cell_type": "code",
      "metadata": {
        "id": "_PwXh2DbvzAk"
      },
      "source": [
        "# Avaliando a florest aleatória e anotando no dicionário\r\n",
        "rf.fit(X_train_2, y_train_2)\r\n",
        "dic[\"Random_forest_100\"] = accuracy_score(y_val, rf.predict(X_val))"
      ],
      "execution_count": 41,
      "outputs": []
    },
    {
      "cell_type": "markdown",
      "metadata": {
        "id": "73TYfevKv2p0"
      },
      "source": [
        "#Linear Support Vector Machine"
      ]
    },
    {
      "cell_type": "code",
      "metadata": {
        "id": "s2esCY1YwBVD"
      },
      "source": [
        "from sklearn.svm import LinearSVC\r\n",
        "svc = LinearSVC()"
      ],
      "execution_count": 42,
      "outputs": []
    },
    {
      "cell_type": "code",
      "metadata": {
        "id": "q2Lg6a5UwCPj"
      },
      "source": [
        "#Avaliando o support vector machine e anotando no dicionário\r\n",
        "svc.fit(X_train_2, y_train_2)\r\n",
        "dic[\"SVC\"] = accuracy_score(y_val, svc.predict(X_val))"
      ],
      "execution_count": 43,
      "outputs": []
    },
    {
      "cell_type": "markdown",
      "metadata": {
        "id": "sgH520eYwqA4"
      },
      "source": [
        "#Avaliando os modelos"
      ]
    },
    {
      "cell_type": "code",
      "metadata": {
        "id": "HcBFDzHVwtjE"
      },
      "source": [
        "validation = pd.Series(dic, name=\"Acurácia\")"
      ],
      "execution_count": 44,
      "outputs": []
    },
    {
      "cell_type": "code",
      "metadata": {
        "colab": {
          "base_uri": "https://localhost:8080/"
        },
        "id": "uuTy1YI0wwMH",
        "outputId": "c6ede02f-feaf-4973-f1e4-eb62f54a8d13"
      },
      "source": [
        "validation"
      ],
      "execution_count": 45,
      "outputs": [
        {
          "output_type": "execute_result",
          "data": {
            "text/plain": [
              "Logistic_regression    0.791045\n",
              "kNN_7                  0.671642\n",
              "Decision_tree_4        0.701493\n",
              "Random_forest_100      0.776119\n",
              "SVC                    0.761194\n",
              "Name: Acurácia, dtype: float64"
            ]
          },
          "metadata": {
            "tags": []
          },
          "execution_count": 45
        }
      ]
    },
    {
      "cell_type": "markdown",
      "metadata": {
        "id": "cJZvGIZHw6M9"
      },
      "source": [
        "#Treinando modelo final"
      ]
    },
    {
      "cell_type": "markdown",
      "metadata": {
        "id": "hz70Vfnxw-M2"
      },
      "source": [
        "Uma vez definido o melhor modelo, que deverá ser decidido usando **somente o conjunto de treinamento**, podemos utilizar o conjunto de teste para estimar o erro de generalização."
      ]
    },
    {
      "cell_type": "code",
      "metadata": {
        "id": "eYq8R5euw72z"
      },
      "source": [
        "#Treinando o melhor modelo no conjunto inteiro:\r\n",
        "scaler = MinMaxScaler()    \r\n",
        "X_train = scaler.fit_transform(X_train)\r\n",
        "X_test = scaler.transform(X_test)  "
      ],
      "execution_count": 46,
      "outputs": []
    },
    {
      "cell_type": "markdown",
      "metadata": {
        "id": "33Vldmok1OwR"
      },
      "source": [
        "Aqui você deve usar o algoritmo que demonstrou possuir melhor performance"
      ]
    },
    {
      "cell_type": "code",
      "metadata": {
        "colab": {
          "base_uri": "https://localhost:8080/"
        },
        "id": "j1wqq2RQ1NU7",
        "outputId": "998bd0e7-4d23-485c-dcff-eb612cf5219f"
      },
      "source": [
        "lr = LogisticRegression(random_state = seed)     \r\n",
        "lr.fit(X_train, y_train) "
      ],
      "execution_count": 47,
      "outputs": [
        {
          "output_type": "execute_result",
          "data": {
            "text/plain": [
              "LogisticRegression(C=1.0, class_weight=None, dual=False, fit_intercept=True,\n",
              "                   intercept_scaling=1, l1_ratio=None, max_iter=100,\n",
              "                   multi_class='auto', n_jobs=None, penalty='l2',\n",
              "                   random_state=0, solver='lbfgs', tol=0.0001, verbose=0,\n",
              "                   warm_start=False)"
            ]
          },
          "metadata": {
            "tags": []
          },
          "execution_count": 47
        }
      ]
    },
    {
      "cell_type": "code",
      "metadata": {
        "colab": {
          "base_uri": "https://localhost:8080/"
        },
        "id": "LXwZGwu6xJpE",
        "outputId": "9f6bd484-f4a8-4174-86f7-46fa05d783db"
      },
      "source": [
        "print(\"Acurácia final: \", str(accuracy_score(y_test, lr.predict(X_test))))"
      ],
      "execution_count": 48,
      "outputs": [
        {
          "output_type": "stream",
          "text": [
            "Acurácia final:  0.79\n"
          ],
          "name": "stdout"
        }
      ]
    },
    {
      "cell_type": "code",
      "metadata": {
        "id": "dmOpexjt1aTj"
      },
      "source": [
        ""
      ],
      "execution_count": 48,
      "outputs": []
    }
  ]
}
