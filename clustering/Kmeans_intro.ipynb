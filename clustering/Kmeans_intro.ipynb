{
  "nbformat": 4,
  "nbformat_minor": 0,
  "metadata": {
    "colab": {
      "name": "Kmeans-intro.ipynb",
      "provenance": []
    },
    "kernelspec": {
      "name": "python3",
      "display_name": "Python 3"
    },
    "language_info": {
      "name": "python"
    }
  },
  "cells": [
    {
      "cell_type": "markdown",
      "source": [
        "Professor Edson Cilos\n",
        "\n",
        "Linkedin: https://www.linkedin.com/in/edson-cilos-032a66162/\n",
        "\n",
        "Website: https://edsoncilos.com\n",
        "\n",
        "Esse material é explicado com detalhes no meu [curso](https://www.udemy.com/course/edson-cilos-ml/?referralCode=2C9C581FAB301BBAE173).\n",
        "\n",
        "Este notebook foi construído baseando-se no [livro do Aurélien Géron](https://www.amazon.com.br/M%C3%A3os-obra-aprendizado-Scikit-Learn-inteligentes/dp/8550815489/ref=asc_df_8550815489/?tag=googleshopp00-20&linkCode=df0&hvadid=379715964603&hvpos=&hvnetw=g&hvrand=6748800514414021109&hvpone=&hvptwo=&hvqmt=&hvdev=c&hvdvcmdl=&hvlocint=&hvlocphy=1032060&hvtargid=pla-1390910077420&psc=1) e também através do notebook do Aurélien Géron, [disponível aqui](https://github.com/ageron/handson-ml2).\n",
        "***************************"
      ],
      "metadata": {
        "id": "8R50YqxnOnfb"
      }
    },
    {
      "cell_type": "markdown",
      "source": [
        "# Importando bibliotecas básicas"
      ],
      "metadata": {
        "id": "YuA_1ajRPGnL"
      }
    },
    {
      "cell_type": "code",
      "source": [
        "import numpy as np\n",
        "import pandas as pd\n",
        "import os\n",
        "\n",
        "%matplotlib inline\n",
        "import matplotlib as mpl\n",
        "import matplotlib.pyplot as plt\n",
        "mpl.rc('axes', labelsize=14)\n",
        "mpl.rc('xtick', labelsize=12)\n",
        "mpl.rc('ytick', labelsize=12)\n",
        "\n",
        "# Para conseguir reproduzir os resultados\n",
        "np.random.seed(0)"
      ],
      "metadata": {
        "id": "Plhs7tcuPDs5"
      },
      "execution_count": null,
      "outputs": []
    },
    {
      "cell_type": "markdown",
      "source": [
        "Vamos começar importanto um conjunto de dados para o nosso estudo:"
      ],
      "metadata": {
        "id": "R6MmIV7jO7-u"
      }
    },
    {
      "cell_type": "code",
      "source": [
        "from sklearn.datasets import make_blobs"
      ],
      "metadata": {
        "id": "CRhmgeaEOmoR"
      },
      "execution_count": null,
      "outputs": []
    },
    {
      "cell_type": "code",
      "source": [
        "blob_centers = np.array(\n",
        "    [[ 0.2,  2.3],\n",
        "     [-1.5 ,  2.3],\n",
        "     [-2.8,  1.8],\n",
        "     [-2.8,  2.8],\n",
        "     [-2.8,  1.3]])\n",
        "blob_std = np.array([0.4, 0.3, 0.1, 0.1, 0.1])"
      ],
      "metadata": {
        "id": "J3D81bSzPCTC"
      },
      "execution_count": null,
      "outputs": []
    },
    {
      "cell_type": "code",
      "source": [
        "X, y = make_blobs(n_samples=2000, centers=blob_centers,\n",
        "                  cluster_std=blob_std, random_state=7)"
      ],
      "metadata": {
        "id": "lETiab3hPN5f"
      },
      "execution_count": null,
      "outputs": []
    },
    {
      "cell_type": "markdown",
      "source": [
        "Agora vamos plotar os dados"
      ],
      "metadata": {
        "id": "GYSmiCJ9PR8Z"
      }
    },
    {
      "cell_type": "code",
      "source": [
        "def plot_clusters(X, y=None):\n",
        "    plt.figure(figsize=(8, 4))\n",
        "    plt.scatter(X[:, 0], X[:, 1], c=y, s=1)\n",
        "    plt.xlabel(\"$x_1$\", fontsize=14)\n",
        "    plt.ylabel(\"$x_2$\", fontsize=14, rotation=0)\n",
        "    plt.show()"
      ],
      "metadata": {
        "id": "iPSDkNUkPPkx"
      },
      "execution_count": null,
      "outputs": []
    },
    {
      "cell_type": "code",
      "source": [
        "plot_clusters(X)"
      ],
      "metadata": {
        "id": "Ev98EszPPTnJ"
      },
      "execution_count": null,
      "outputs": []
    },
    {
      "cell_type": "markdown",
      "source": [
        "# Treinando e compreendendo o K-means"
      ],
      "metadata": {
        "id": "gfpJO2YtPqju"
      }
    },
    {
      "cell_type": "markdown",
      "source": [
        "Visualmente parece que o nosso problema conta com 3 cluster mais densos e 2 mais esparsos, totalizando 5 aglomerados"
      ],
      "metadata": {
        "id": "Gh3bf14DPvpq"
      }
    },
    {
      "cell_type": "code",
      "source": [
        "from sklearn.cluster import KMeans\n",
        "\n",
        "k = 5\n",
        "\n",
        "kmeans = KMeans(n_clusters=k, random_state=42)\n",
        "y_pred = kmeans.fit_predict(X)"
      ],
      "metadata": {
        "id": "7ib92JoVPuEg"
      },
      "execution_count": null,
      "outputs": []
    },
    {
      "cell_type": "markdown",
      "source": [
        "Acessando os \"rótulos\" de treinamento"
      ],
      "metadata": {
        "id": "bcmMrTM4QVA3"
      }
    },
    {
      "cell_type": "code",
      "source": [
        "kmeans.labels_"
      ],
      "metadata": {
        "id": "Qv0s7dD0QGrX"
      },
      "execution_count": null,
      "outputs": []
    },
    {
      "cell_type": "code",
      "source": [
        "np.unique(kmeans.labels_)"
      ],
      "metadata": {
        "id": "QGkYPMyqP7fZ"
      },
      "execution_count": null,
      "outputs": []
    },
    {
      "cell_type": "markdown",
      "source": [
        "Vamos verificar os centrois dos clusters"
      ],
      "metadata": {
        "id": "E9P9GRvhQZwc"
      }
    },
    {
      "cell_type": "code",
      "source": [
        "kmeans.cluster_centers_"
      ],
      "metadata": {
        "id": "dDeHfcGCP_Q4"
      },
      "execution_count": null,
      "outputs": []
    },
    {
      "cell_type": "markdown",
      "source": [
        "É coerente com a figura?"
      ],
      "metadata": {
        "id": "pfVnEPV0Qe7U"
      }
    },
    {
      "cell_type": "code",
      "source": [
        "plot_clusters(X)"
      ],
      "metadata": {
        "id": "kbTvp6F6QJaA"
      },
      "execution_count": null,
      "outputs": []
    },
    {
      "cell_type": "markdown",
      "source": [
        "Vamos agora avaliar a \"fronteira de decisões\" -  diagrama de Voronoi:"
      ],
      "metadata": {
        "id": "NIp6PaebQw2O"
      }
    },
    {
      "cell_type": "code",
      "source": [
        "def plot_data(X):\n",
        "    plt.plot(X[:, 0], X[:, 1], 'k.', markersize=2)\n",
        "\n",
        "def plot_centroids(centroids, weights=None, circle_color='w', cross_color='k'):\n",
        "    if weights is not None:\n",
        "        centroids = centroids[weights > weights.max() / 10]\n",
        "    plt.scatter(centroids[:, 0], centroids[:, 1],\n",
        "                marker='o', s=35, linewidths=8,\n",
        "                color=circle_color, zorder=10, alpha=0.9)\n",
        "    plt.scatter(centroids[:, 0], centroids[:, 1],\n",
        "                marker='x', s=2, linewidths=12,\n",
        "                color=cross_color, zorder=11, alpha=1)\n",
        "\n",
        "def plot_decision_boundaries(clusterer, X, resolution=1000, show_centroids=True,\n",
        "                             show_xlabels=True, show_ylabels=True):\n",
        "    mins = X.min(axis=0) - 0.1\n",
        "    maxs = X.max(axis=0) + 0.1\n",
        "    xx, yy = np.meshgrid(np.linspace(mins[0], maxs[0], resolution),\n",
        "                         np.linspace(mins[1], maxs[1], resolution))\n",
        "    Z = clusterer.predict(np.c_[xx.ravel(), yy.ravel()])\n",
        "    Z = Z.reshape(xx.shape)\n",
        "\n",
        "    plt.contourf(Z, extent=(mins[0], maxs[0], mins[1], maxs[1]),\n",
        "                cmap=\"Pastel2\")\n",
        "    plt.contour(Z, extent=(mins[0], maxs[0], mins[1], maxs[1]),\n",
        "                linewidths=1, colors='k')\n",
        "    plot_data(X)\n",
        "    if show_centroids:\n",
        "        plot_centroids(clusterer.cluster_centers_)\n",
        "\n",
        "    if show_xlabels:\n",
        "        plt.xlabel(\"$x_1$\", fontsize=14)\n",
        "    else:\n",
        "        plt.tick_params(labelbottom=False)\n",
        "    if show_ylabels:\n",
        "        plt.ylabel(\"$x_2$\", fontsize=14, rotation=0)\n",
        "    else:\n",
        "        plt.tick_params(labelleft=False)"
      ],
      "metadata": {
        "id": "Uot-3_BZQTkB"
      },
      "execution_count": null,
      "outputs": []
    },
    {
      "cell_type": "code",
      "source": [
        "plt.figure(figsize=(8, 4))\n",
        "plot_decision_boundaries(kmeans, X)\n",
        "plt.show()"
      ],
      "metadata": {
        "id": "z4CwmwN_Q7uK"
      },
      "execution_count": null,
      "outputs": []
    },
    {
      "cell_type": "code",
      "source": [
        "plot_clusters(X)"
      ],
      "metadata": {
        "id": "kZMYg2piRM3x"
      },
      "execution_count": null,
      "outputs": []
    },
    {
      "cell_type": "markdown",
      "source": [
        "**Hard clustering:** associamos cada instância a um cluster\n",
        "\n",
        "**Soft clustering:** associamos cada instância a scores (array) dos clusters"
      ],
      "metadata": {
        "id": "nKL6jdlbSk8e"
      }
    },
    {
      "cell_type": "code",
      "source": [
        "X_new = np.array([[0, 2], [3, 2], [-3, 3], [-3, 2.5]])\n",
        "kmeans.predict(X_new)"
      ],
      "metadata": {
        "id": "hTWnx6TfRRNw"
      },
      "execution_count": null,
      "outputs": []
    },
    {
      "cell_type": "code",
      "source": [
        "kmeans.transform(X_new)"
      ],
      "metadata": {
        "id": "9TYaYX1USt3K"
      },
      "execution_count": null,
      "outputs": []
    },
    {
      "cell_type": "markdown",
      "source": [
        "Nesse caso, o método transform calcula a distância euclidiana das instâncias para os centróides"
      ],
      "metadata": {
        "id": "XPb8E29fS7Jl"
      }
    },
    {
      "cell_type": "markdown",
      "source": [
        "Se você tem algum palpite sobre a inicialização do k-means, você pode usar o \"init\""
      ],
      "metadata": {
        "id": "N1Y4d6vtTTQl"
      }
    },
    {
      "cell_type": "code",
      "source": [
        "plot_clusters(X)"
      ],
      "metadata": {
        "id": "lvyjcaiDTpzX"
      },
      "execution_count": null,
      "outputs": []
    },
    {
      "cell_type": "code",
      "source": [
        "good_init = np.array([[-3,3], [-3,2], [-3, 1], [-1,2], [0,2]])\n",
        "kmeans = KMeans(n_clusters = k, init = good_init, n_init = 1)"
      ],
      "metadata": {
        "id": "kzK1UuYVSwjo"
      },
      "execution_count": null,
      "outputs": []
    },
    {
      "cell_type": "code",
      "source": [
        "y_pred = kmeans.fit_predict(X)"
      ],
      "metadata": {
        "id": "7rNNgcpbT5Ej"
      },
      "execution_count": null,
      "outputs": []
    },
    {
      "cell_type": "code",
      "source": [
        "kmeans.cluster_centers_"
      ],
      "metadata": {
        "id": "kVeuLjc3UBEB"
      },
      "execution_count": null,
      "outputs": []
    },
    {
      "cell_type": "markdown",
      "source": [
        "Compare com o resultado anterior:\n",
        "      \n",
        "      [-2.80389616,  1.80117999]\n",
        "      [ 0.20876306,  2.25551336]\n",
        "      [-2.79290307,  2.79641063]\n",
        "      [-1.46679593,  2.28585348]\n",
        "      [-2.80037642,  1.30082566]\n",
        "      \n"
      ],
      "metadata": {
        "id": "z9WJhyPxUZyu"
      }
    },
    {
      "cell_type": "markdown",
      "source": [
        "Sobre outras técnicas de inicialização, ver a [documentação no sklearn](https://scikit-learn.org/stable/modules/generated/sklearn.cluster.KMeans.html)."
      ],
      "metadata": {
        "id": "kTStwLB9VjM6"
      }
    },
    {
      "cell_type": "markdown",
      "source": [
        "Calculando a inércia:  $$\\sum_{i}^{N} \\min_{u_j \\in C} \\left( ||x^{(i)} - u_j ||^2 \\right),$$"
      ],
      "metadata": {
        "id": "qRFifpUvV1_G"
      }
    },
    {
      "cell_type": "code",
      "source": [
        "kmeans.inertia_"
      ],
      "metadata": {
        "id": "BZaqbC5_UXMi"
      },
      "execution_count": null,
      "outputs": []
    },
    {
      "cell_type": "markdown",
      "source": [
        "Que é equivalente à: "
      ],
      "metadata": {
        "id": "Qyjq_4-1V_6n"
      }
    },
    {
      "cell_type": "code",
      "source": [
        "X_dist = kmeans.transform(X)\n",
        "np.sum(X_dist[np.arange(len(X_dist)), kmeans.labels_]**2)"
      ],
      "metadata": {
        "id": "9Fp13KNpV1Oz"
      },
      "execution_count": null,
      "outputs": []
    },
    {
      "cell_type": "code",
      "source": [
        ""
      ],
      "metadata": {
        "id": "Bq5b40PfV55x"
      },
      "execution_count": null,
      "outputs": []
    }
  ]
}