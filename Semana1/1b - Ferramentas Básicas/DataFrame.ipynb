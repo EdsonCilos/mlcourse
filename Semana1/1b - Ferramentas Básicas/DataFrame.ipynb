{
 "cells": [
  {
   "cell_type": "markdown",
   "metadata": {},
   "source": [
    "# Introdução a DataFrame"
   ]
  },
  {
   "cell_type": "markdown",
   "metadata": {},
   "source": [
    "Assim como o Panda Series, um DataFrame pode ser visto de duas formas:\n",
    "\n",
    "    - Generalização de um array numpy;\n",
    "    - Especialização de um dicionário.\n",
    "    \n",
    "Vamos começar com um exemplo simples.   "
   ]
  },
  {
   "cell_type": "code",
   "execution_count": null,
   "metadata": {},
   "outputs": [],
   "source": [
    "#Bibliotecas a serem importadas\n",
    "import pandas as pd\n",
    "import numpy as np"
   ]
  },
  {
   "cell_type": "code",
   "execution_count": null,
   "metadata": {},
   "outputs": [],
   "source": [
    "data = {'Curso': [\"Engenharia\", \"Engenharia\", \"Física\", \n",
    "                  \"Jornalismo\", None], \n",
    "     'Idade': [18, 19, 23, 32, 18],\n",
    "     'Aprovado': [\"S\", \"N\", \"N\", \"N\", \"S\"]\n",
    "     }\n",
    "\n",
    "alunos = [\"João\", \"Maria\", \"Zeca\", \"Jow\", \"Mano\"]\n",
    "\n",
    "df = pd.DataFrame(data=data, index = alunos)\n",
    "df"
   ]
  },
  {
   "cell_type": "markdown",
   "metadata": {},
   "source": [
    "Observe que apesar de um DataFrame permitir uma estrutura de dados heterogênea há uma *estrutura* nos dados. Cada instância, isto é, cada linha têm seus dados organizados com as informações do curso, idade e se foi ou não aprovado. "
   ]
  },
  {
   "cell_type": "markdown",
   "metadata": {},
   "source": [
    "É possível ainda construir DataFrame com lista de dicionarios, da seguinte forma:"
   ]
  },
  {
   "cell_type": "code",
   "execution_count": null,
   "metadata": {},
   "outputs": [],
   "source": [
    "data2 = [{'Curso': 'Engenharia', 'Idade': 18, 'Aprovado': 'S'},\n",
    "        {'Curso': 'Engenharia', 'Idade': 19, 'Aprovado' : 'N'},\n",
    "        {'Curso': 'Física', 'Idade': 23, 'Aprovado' : 'N'},\n",
    "        {'Curso': 'Jornalismo', 'Idade': 32, 'Aprovado' : 'N'},\n",
    "        {'Idade': 18, 'Aprovado' : 'S'}]\n",
    "\n",
    "df2 = pd.DataFrame(data = data2, index = alunos)\n",
    "df2"
   ]
  },
  {
   "cell_type": "markdown",
   "metadata": {},
   "source": [
    "A Diferença a ser notada é que nessa construção na última instância não especificamos a coluna \"Curso\", na qual ele atribuíu como sendo \"NaN\". Dessa forma, você pode especificar instâncias colocando no dicionário apenas as informações disponíveis."
   ]
  },
  {
   "cell_type": "markdown",
   "metadata": {},
   "source": [
    "# Atributos\n",
    "\n",
    "Na questão de atributos, há elevada semelhança com Panda Series. "
   ]
  },
  {
   "cell_type": "markdown",
   "metadata": {},
   "source": [
    "Curtas e rápidas sobre alguns dos atributos do pd.DataFrame:"
   ]
  },
  {
   "cell_type": "code",
   "execution_count": null,
   "metadata": {},
   "outputs": [],
   "source": [
    "#Acessando os índices (= nome da instâncias)\n",
    "df.index"
   ]
  },
  {
   "cell_type": "code",
   "execution_count": null,
   "metadata": {},
   "outputs": [],
   "source": [
    "#Matriz de valores\n",
    "df.values"
   ]
  },
  {
   "cell_type": "code",
   "execution_count": null,
   "metadata": {},
   "outputs": [],
   "source": [
    "#Colunas do DataFrame\n",
    "df.columns"
   ]
  },
  {
   "cell_type": "code",
   "execution_count": null,
   "metadata": {},
   "outputs": [],
   "source": [
    "#Chaves do DataFrame\n",
    "df.keys()"
   ]
  },
  {
   "cell_type": "markdown",
   "metadata": {},
   "source": [
    "Pode parecer supérfluo falar de dois métodos que essencialmente o mesmo resultado, mas nesse caso não é. É importante observar que se você fizer um *loop* tomando valores de \"df\" o que será considerado são as suas chaves. Em outras palavras, a **informação de que as chaves do DataFrame são exatamente as suas colunas já nos deixa cientes que o acesso natural a um DataFrame é através do nome das suas colunas**"
   ]
  },
  {
   "cell_type": "code",
   "execution_count": null,
   "metadata": {},
   "outputs": [],
   "source": [
    "#Acessando coluna \"Curso\"\n",
    "df['Curso']"
   ]
  },
  {
   "cell_type": "code",
   "execution_count": null,
   "metadata": {},
   "outputs": [],
   "source": [
    "#Loop via chaves, que é exatamente os nomes das colunas\n",
    "for name in df:\n",
    "    print(name)"
   ]
  },
  {
   "cell_type": "code",
   "execution_count": null,
   "metadata": {},
   "outputs": [],
   "source": [
    "#Acessar coluna\n",
    "df.Aprovado"
   ]
  },
  {
   "cell_type": "markdown",
   "metadata": {},
   "source": [
    "O último método funciona desde que o nome da coluna não seja um método do Pandas. Por exemplo, df.pop vai apontar para o método pop(), mesmo que enventualmente exista a coluna \"pop\". Dessa forma é importante ter cuidado ao acessar colunas dessa forma. "
   ]
  },
  {
   "cell_type": "code",
   "execution_count": null,
   "metadata": {},
   "outputs": [],
   "source": [
    "#Número total de células dataframe (exclui índices)\n",
    "df.size"
   ]
  },
  {
   "cell_type": "code",
   "execution_count": null,
   "metadata": {},
   "outputs": [],
   "source": [
    "#Dimensões \n",
    "df.shape"
   ]
  },
  {
   "cell_type": "markdown",
   "metadata": {},
   "source": [
    "Convém observar que o último objeto se trata de um Pandas Series"
   ]
  },
  {
   "cell_type": "code",
   "execution_count": null,
   "metadata": {},
   "outputs": [],
   "source": [
    "type(df['Curso'])"
   ]
  },
  {
   "cell_type": "markdown",
   "metadata": {},
   "source": [
    "É possível acessar linhas, colunas ou elementos específicos usando iloc:"
   ]
  },
  {
   "cell_type": "code",
   "execution_count": null,
   "metadata": {},
   "outputs": [],
   "source": [
    "#Acessar linha 1\n",
    "df.iloc[1,:]"
   ]
  },
  {
   "cell_type": "code",
   "execution_count": null,
   "metadata": {},
   "outputs": [],
   "source": [
    "#Acessar coluna 2 (Aprovado ou não)\n",
    "df.iloc[:, 2]"
   ]
  },
  {
   "cell_type": "code",
   "execution_count": null,
   "metadata": {},
   "outputs": [],
   "source": [
    "#Acessa linha 0, colun 2\n",
    "df.iloc[0,2]"
   ]
  },
  {
   "cell_type": "code",
   "execution_count": null,
   "metadata": {},
   "outputs": [],
   "source": [
    "#Só os novinhos :D\n",
    "df[df['Idade'] < 25]"
   ]
  },
  {
   "cell_type": "code",
   "execution_count": null,
   "metadata": {},
   "outputs": [],
   "source": [
    "#Novinhos da Engenharia\n",
    "df[(df['Idade'] < 25) & (df['Curso'] == 'Engenharia')]"
   ]
  },
  {
   "cell_type": "markdown",
   "metadata": {},
   "source": [
    "# Métodos\n",
    "\n",
    "Podemos ainda utilizar operações matemática e/ou métodos para trasnformar e manipular DataFrames"
   ]
  },
  {
   "cell_type": "code",
   "execution_count": null,
   "metadata": {},
   "outputs": [],
   "source": [
    "df"
   ]
  },
  {
   "cell_type": "code",
   "execution_count": null,
   "metadata": {},
   "outputs": [],
   "source": [
    "#Soma\n",
    "df['Idade'] += 5\n",
    "df"
   ]
  },
  {
   "cell_type": "code",
   "execution_count": null,
   "metadata": {},
   "outputs": [],
   "source": [
    "#Multiplicação /divisão\n",
    "df['Idade'] *= 2/3\n",
    "df"
   ]
  },
  {
   "cell_type": "code",
   "execution_count": null,
   "metadata": {},
   "outputs": [],
   "source": [
    "#Transpondo um DataFrame\n",
    "df.T"
   ]
  },
  {
   "cell_type": "code",
   "execution_count": null,
   "metadata": {},
   "outputs": [],
   "source": [
    "#Multiplicar DataFrame\n",
    "2*df"
   ]
  },
  {
   "cell_type": "markdown",
   "metadata": {},
   "source": [
    "Outras operações evidentemente não funcionaria já que não tem como dividir strings ou calcular exponenciais por exemplo. Para exemplificar, vamos considerar o seguinte DataFrame númerico:"
   ]
  },
  {
   "cell_type": "code",
   "execution_count": null,
   "metadata": {},
   "outputs": [],
   "source": [
    "#Valoes numéricos\n",
    "df2 = pd.DataFrame(data = { 'Idade': [18, 23], 'Score' : [2, 3]}, \n",
    "                   index = [\"João\", \"Maria\"])\n",
    "df2"
   ]
  },
  {
   "cell_type": "code",
   "execution_count": null,
   "metadata": {},
   "outputs": [],
   "source": [
    "np.exp(df2)"
   ]
  },
  {
   "cell_type": "markdown",
   "metadata": {},
   "source": [
    "É possível ainda fazer operações entre DataFrames"
   ]
  },
  {
   "cell_type": "code",
   "execution_count": null,
   "metadata": {},
   "outputs": [],
   "source": [
    "df + df2"
   ]
  },
  {
   "cell_type": "code",
   "execution_count": null,
   "metadata": {},
   "outputs": [],
   "source": [
    "#Alternativa:\n",
    "A = pd.DataFrame([[3, 5, 7],[3, 5, 7]], index=[0, 1])\n",
    "B = pd.DataFrame([[2, 4, 6], [2, 4, 6], []], index=[1, 2, 3])\n",
    "df3 = A.add(B, fill_value = 0)\n",
    "df3"
   ]
  },
  {
   "cell_type": "markdown",
   "metadata": {},
   "source": [
    "Repara a diferença:"
   ]
  },
  {
   "cell_type": "code",
   "execution_count": null,
   "metadata": {},
   "outputs": [],
   "source": [
    "A + B"
   ]
  },
  {
   "cell_type": "markdown",
   "metadata": {},
   "source": [
    "Algumas operações usuais com correspondente no pandas:\n",
    "\n",
    "| Operação | Pandas | \n",
    "| ------ | ------ | \n",
    "| + | add() | \n",
    "| + | sub(), substract() | \n",
    "| * | mul(), multiply() | \n",
    "| / |  div(), divide() | \n",
    "| // | floordiv() | \n",
    "| % | mod() |\n",
    "|** | pow |"
   ]
  },
  {
   "cell_type": "markdown",
   "metadata": {},
   "source": [
    "É possível ainda usar o método apply para transformar um pandas DataFrame."
   ]
  },
  {
   "cell_type": "code",
   "execution_count": null,
   "metadata": {},
   "outputs": [],
   "source": [
    "def fnan(x):\n",
    "    return x.fillna(0)\n",
    "\n",
    "df3.apply(fnan)"
   ]
  },
  {
   "cell_type": "code",
   "execution_count": null,
   "metadata": {},
   "outputs": [],
   "source": [
    "df3.fillna(0)"
   ]
  },
  {
   "cell_type": "code",
   "execution_count": null,
   "metadata": {},
   "outputs": [],
   "source": [
    "df4 = df3.where(-df3.isna(), 0)\n",
    "df4"
   ]
  },
  {
   "cell_type": "code",
   "execution_count": null,
   "metadata": {},
   "outputs": [],
   "source": []
  }
 ],
 "metadata": {
  "kernelspec": {
   "display_name": "Python 3",
   "language": "python",
   "name": "python3"
  },
  "language_info": {
   "codemirror_mode": {
    "name": "ipython",
    "version": 3
   },
   "file_extension": ".py",
   "mimetype": "text/x-python",
   "name": "python",
   "nbconvert_exporter": "python",
   "pygments_lexer": "ipython3",
   "version": "3.8.3"
  }
 },
 "nbformat": 4,
 "nbformat_minor": 4
}
