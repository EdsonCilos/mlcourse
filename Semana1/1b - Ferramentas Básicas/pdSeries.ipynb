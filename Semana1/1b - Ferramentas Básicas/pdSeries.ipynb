{
  "nbformat": 4,
  "nbformat_minor": 0,
  "metadata": {
    "colab": {
      "name": "pdSeries.ipynb",
      "provenance": []
    },
    "kernelspec": {
      "name": "python3",
      "display_name": "Python 3"
    },
    "language_info": {
      "name": "python"
    }
  },
  "cells": [
    {
      "cell_type": "markdown",
      "metadata": {
        "id": "0D2joW-rz4dd"
      },
      "source": [
        "# Introdução ao pandas Series"
      ]
    },
    {
      "cell_type": "markdown",
      "metadata": {
        "id": "6W3Zp2eFud_7"
      },
      "source": [
        "\n",
        "\n",
        "Aqui vamos abordar sucintamente aspectos introdutórios sobre o tema. É claro que aqui não tem muita novidade, a não ser uma organização um pouco mais didática e facilitada. Tudo que se aborda aqui é a luz da [documentação](https://pandas.pydata.org/pandas-docs/stable/reference/api/pandas.Series.html).\n",
        "\n",
        "O primeiro passo é importar a biblioteca pandas, que tipicamente é renomeada como sendo \"pd\". Isso é feito apenas para deixar o código mais enxuto e melhor de ser implementado.  Poderíamos chamar de outro nome, por exemplo \"ed\" - o que exigiria o esforço mental de se associar \"ed\" à \"pandas\", daí \"pd\" servir muito melhor para essa finalidade. **Lembre que o seu código será lido por outras pessoas**. Para um leitor teimoso, pode-se usar também \"pandas\" por extenso ao preço de se digitar mais alguns carácteres toda vez que se chama a biblioteca.\n",
        "\n"
      ]
    },
    {
      "cell_type": "code",
      "metadata": {
        "id": "CdRh1ALOua_a"
      },
      "source": [
        "import pandas as pd "
      ],
      "execution_count": null,
      "outputs": []
    },
    {
      "cell_type": "markdown",
      "metadata": {
        "id": "TjNMahMsw8E3"
      },
      "source": [
        "Agora vamos construir um exemplo de pandas Series para discutirmos as suas características."
      ]
    },
    {
      "cell_type": "code",
      "metadata": {
        "id": "WFvcP92vxMHw"
      },
      "source": [
        "s1 = pd.Series(data = [True, 21, 'Matemática'], \n",
        "               index = ['Alice', 'Bob', 'Carlos'])\n",
        "\n",
        "s1"
      ],
      "execution_count": null,
      "outputs": []
    },
    {
      "cell_type": "markdown",
      "metadata": {
        "id": "oVtaOGw4xSkY"
      },
      "source": [
        "Os dados que estamos representando é essencialmente a lista: \n",
        "\n",
        " <font color='red'> [True, 21, 'Matemática'], </font>\n",
        "\n",
        "cuja cada elemento tem um *índice* correspondente \n",
        "\n",
        "<font color='red'> ['Alice', 'Bob', 'Carlos'].</font>\n",
        "\n",
        "Observe ainda o dtype : object. Aqui o pandas está interpretando os elementos como sendo um objeto genérico. \n",
        "\n",
        "Vejamos agora um segundo exemplo:"
      ]
    },
    {
      "cell_type": "code",
      "metadata": {
        "id": "-gf0a9kxyt5z"
      },
      "source": [
        "s2 = pd.Series(data = [18, 21, 13], \n",
        "               index = ['Alice', 'Bob', 'Carlos'])\n",
        "\n",
        "s2"
      ],
      "execution_count": null,
      "outputs": []
    },
    {
      "cell_type": "markdown",
      "metadata": {
        "id": "jI397YtJzYIF"
      },
      "source": [
        "Quando os nossos dados de entrada são todo inteiros, automaticamente o pandas reconheceu os dados como sendo do formato inteiro! \n",
        "\n",
        "Aqui então já notamos uma grande diferença com o tratamento típico de arrays (por exemplo, NumPy ndarrays) é que <font color='red'> pandas Series suporta dados de entrada em diferentes formatos.</font>"
      ]
    },
    {
      "cell_type": "markdown",
      "metadata": {
        "id": "8ggqWPXG7RUq"
      },
      "source": [
        "# Atributos\n",
        "\n",
        "Curtas e rápidas sobre alguns dos atributos do pd.Series:"
      ]
    },
    {
      "cell_type": "code",
      "metadata": {
        "id": "Th7MP8akzQTl"
      },
      "source": [
        "# Checando tipo de dados: \n",
        "s2.dtype"
      ],
      "execution_count": null,
      "outputs": []
    },
    {
      "cell_type": "code",
      "metadata": {
        "id": "pVhNoFd_5hXe"
      },
      "source": [
        "# Acessando os índices da série: \n",
        "s1.index"
      ],
      "execution_count": null,
      "outputs": []
    },
    {
      "cell_type": "code",
      "metadata": {
        "id": "sCpcyiQw50-E"
      },
      "source": [
        "#Acessando os valores de uma série:\n",
        "s1.values"
      ],
      "execution_count": null,
      "outputs": []
    },
    {
      "cell_type": "code",
      "metadata": {
        "id": "z_xAhyOy6V4N"
      },
      "source": [
        "#Shape dos dados\n",
        "s1.shape"
      ],
      "execution_count": null,
      "outputs": []
    },
    {
      "cell_type": "code",
      "metadata": {
        "id": "lyeqQq666ynl"
      },
      "source": [
        "#Quantidade de elementos nos dados\n",
        "s1.size"
      ],
      "execution_count": null,
      "outputs": []
    },
    {
      "cell_type": "markdown",
      "metadata": {
        "id": "YP0OAFFL7btG"
      },
      "source": [
        "# Métodos\n",
        "\n",
        "Curtas e rápidas sobre alguns métodos do pd.Series:"
      ]
    },
    {
      "cell_type": "code",
      "metadata": {
        "id": "B_XCoVSY79wt"
      },
      "source": [
        "#Concatenar duas series\n",
        "s1 = pd.Series([1,'oi',3]) #Se índices não forem informados, eles serão 0,1,2...\n",
        "s2 = pd.Series(['tchau', 5, 6], index = ['x', 'y', 'z'])\n",
        "s3 = s1.append(s2)\n",
        "s3"
      ],
      "execution_count": null,
      "outputs": []
    },
    {
      "cell_type": "code",
      "metadata": {
        "id": "Cynl6AKT8Wsn"
      },
      "source": [
        "# Concatenar duas series ignorando indice da segunda\n",
        "s1.append(s2, ignore_index=True)"
      ],
      "execution_count": null,
      "outputs": []
    },
    {
      "cell_type": "markdown",
      "metadata": {
        "id": "idLwKeLE9hqJ"
      },
      "source": [
        "Vamos ilustrar agora o método apply, que serve para \"aplicar\" uma função ao pandas series. Por exemplo, a tarefa de elevar todos os números ao quadrado."
      ]
    },
    {
      "cell_type": "code",
      "metadata": {
        "id": "_suAa55X8XTN"
      },
      "source": [
        "#Passo 1: Definir a função:\n",
        "def square(x): return x*x;\n",
        "\n",
        "#Passo 2: Chamar a função via método apply:\n",
        "s = pd.Series([1, 2, 3])\n",
        "s.apply(square)"
      ],
      "execution_count": null,
      "outputs": []
    },
    {
      "cell_type": "code",
      "metadata": {
        "id": "3m4K3MT1AJ4a"
      },
      "source": [
        "#Deletando valores de uma série por indice:\n",
        "s = pd.Series(data=[18, 21, 22], index=['Alice', 'Bob', 'Carlos'])\n",
        "s.drop(labels = ['Bob', 'Carlos'])\n"
      ],
      "execution_count": null,
      "outputs": []
    },
    {
      "cell_type": "code",
      "metadata": {
        "id": "KMIF6kgIBSTn"
      },
      "source": [
        "#Deletando valores com dados com NaN\n",
        "s = pd.Series(data = [float(\"NaN\"), 21, 22], index=['Alice', 'Bob', 'Carlos'])\n",
        "print(\" Antes: \\n\")\n",
        "print(s)\n",
        "print(\"\\n Depois: \\n \")\n",
        "s.dropna()"
      ],
      "execution_count": null,
      "outputs": []
    },
    {
      "cell_type": "code",
      "metadata": {
        "id": "1iWZFl52Binu"
      },
      "source": [
        "#Substituindo valores com dados com NaN\n",
        "s = pd.Series(data = [float(\"NaN\"), 21, 22], index=['Alice', 'Bob', 'Carlos'])\n",
        "s.fillna(value = 0)"
      ],
      "execution_count": null,
      "outputs": []
    },
    {
      "cell_type": "code",
      "metadata": {
        "id": "WbZh8sPFCKGv"
      },
      "source": [
        "#Conversões\n",
        "s = pd.Series(data=[18, 21, 22], index=['Alice', 'Bob', 'Carlos'])\n",
        "\n",
        "#Json\n",
        "print(\" Jason: {}\".format(s.to_json()))\n",
        "\n",
        "#Latex\n",
        "print(\"\\n Latex: \\n\")\n",
        "print(s.to_latex())\n",
        "\n",
        "#Lista\n",
        "print(\"\\n Lista: {}\".format(s.to_list()))\n"
      ],
      "execution_count": null,
      "outputs": []
    },
    {
      "cell_type": "code",
      "metadata": {
        "id": "lQUENAi6DClv"
      },
      "source": [
        "#Valores unicos\n",
        "s = pd.Series(data=[18, 18, 22], index=['Alice', 'Bob', 'Carlos'])\n",
        "s.unique()"
      ],
      "execution_count": null,
      "outputs": []
    },
    {
      "cell_type": "code",
      "metadata": {
        "id": "ZcwuE57XF1R4"
      },
      "source": [
        "#Substitui valores via clásula where\n",
        "s = pd.Series(data = [16, 18, 22])\n",
        "\n",
        "#inplace serve para modificar objeto original\n",
        "#Substitui valores quando a condição é falsa\n",
        "s.where(s < 18, \"Hot\") #Se não < 18, então \"Hot\""
      ],
      "execution_count": null,
      "outputs": []
    },
    {
      "cell_type": "code",
      "metadata": {
        "id": "pga2pBCbGKvY"
      },
      "source": [
        ""
      ],
      "execution_count": null,
      "outputs": []
    }
  ]
}