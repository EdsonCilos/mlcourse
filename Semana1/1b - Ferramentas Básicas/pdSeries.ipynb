{
 "cells": [
  {
   "cell_type": "markdown",
   "metadata": {
    "id": "0D2joW-rz4dd"
   },
   "source": [
    "# Introdução ao pandas Series"
   ]
  },
  {
   "cell_type": "markdown",
   "metadata": {
    "id": "6W3Zp2eFud_7"
   },
   "source": [
    "\n",
    "\n",
    "Aqui vamos abordar sucintamente aspectos introdutórios sobre o tema. É claro que aqui não tem muita novidade, a não ser uma organização um pouco mais didática e facilitada. Tudo que se aborda aqui é a luz da [documentação](https://pandas.pydata.org/pandas-docs/stable/reference/api/pandas.Series.html).\n",
    "\n",
    "O primeiro passo é importar a biblioteca pandas, que tipicamente é renomeada como sendo \"pd\". Isso é feito apenas para deixar o código mais enxuto e melhor de ser implementado. **Lembre que o seu código será lido por outras pessoas**. \n",
    "\n"
   ]
  },
  {
   "cell_type": "code",
   "execution_count": null,
   "metadata": {
    "id": "CdRh1ALOua_a"
   },
   "outputs": [],
   "source": [
    "import pandas as pd "
   ]
  },
  {
   "cell_type": "markdown",
   "metadata": {
    "id": "TjNMahMsw8E3"
   },
   "source": [
    "Agora vamos construir um exemplo de pandas Series para discutirmos as suas características."
   ]
  },
  {
   "cell_type": "code",
   "execution_count": null,
   "metadata": {
    "id": "WFvcP92vxMHw"
   },
   "outputs": [],
   "source": [
    "s1 = pd.Series(data = [True, 21, 'Matemática'], \n",
    "               index = ['Alice', 'Bob', 'Carlos'])\n",
    "\n",
    "s1"
   ]
  },
  {
   "cell_type": "markdown",
   "metadata": {
    "id": "oVtaOGw4xSkY"
   },
   "source": [
    "Os dados que estamos representando é essencialmente a lista: \n",
    "\n",
    " <font color='red'> [True, 21, 'Matemática'], </font>\n",
    "\n",
    "cuja cada elemento tem um *índice* correspondente \n",
    "\n",
    "<font color='red'> ['Alice', 'Bob', 'Carlos'].</font>\n",
    "\n",
    "Observe ainda o dtype : object. Aqui o pandas está interpretando os elementos como sendo um objeto genérico. \n",
    "\n",
    "Vejamos agora um segundo exemplo:"
   ]
  },
  {
   "cell_type": "code",
   "execution_count": null,
   "metadata": {
    "id": "-gf0a9kxyt5z"
   },
   "outputs": [],
   "source": [
    "s2 = pd.Series(data = [18, 21, 13], \n",
    "               index = ['Alice', 'Bob', 'Carlos'])\n",
    "\n",
    "s2"
   ]
  },
  {
   "cell_type": "markdown",
   "metadata": {
    "id": "jI397YtJzYIF"
   },
   "source": [
    "Quando os nossos dados de entrada são todo inteiros, automaticamente o pandas reconheceu os dados como sendo do formato inteiro! \n",
    "\n",
    "Aqui então já notamos uma grande diferença com o tratamento típico de arrays (por exemplo, NumPy ndarrays) é que <font color='red'> pandas Series suporta dados de entrada em diferentes formatos.</font>"
   ]
  },
  {
   "cell_type": "markdown",
   "metadata": {},
   "source": [
    "Em resumo, podemos compreender um objeto Pandas Series como um array 1-dimensional de dados indexados. "
   ]
  },
  {
   "cell_type": "markdown",
   "metadata": {
    "id": "8ggqWPXG7RUq"
   },
   "source": [
    "# Atributos\n",
    "\n",
    "Curtas e rápidas sobre alguns dos atributos do pd.Series:"
   ]
  },
  {
   "cell_type": "code",
   "execution_count": null,
   "metadata": {
    "id": "Th7MP8akzQTl"
   },
   "outputs": [],
   "source": [
    "# Checando tipo de dados\n",
    "s2.dtype"
   ]
  },
  {
   "cell_type": "code",
   "execution_count": null,
   "metadata": {
    "id": "pVhNoFd_5hXe"
   },
   "outputs": [],
   "source": [
    "# Acessando os índices da série\n",
    "s1.index"
   ]
  },
  {
   "cell_type": "code",
   "execution_count": null,
   "metadata": {
    "id": "sCpcyiQw50-E"
   },
   "outputs": [],
   "source": [
    "#Acessando os valores de uma série\n",
    "s1.values"
   ]
  },
  {
   "cell_type": "code",
   "execution_count": null,
   "metadata": {
    "id": "z_xAhyOy6V4N"
   },
   "outputs": [],
   "source": [
    "#Shape dos dados\n",
    "s1.shape"
   ]
  },
  {
   "cell_type": "code",
   "execution_count": null,
   "metadata": {
    "id": "lyeqQq666ynl"
   },
   "outputs": [],
   "source": [
    "#Quantidade de elementos nos dados\n",
    "s1.size"
   ]
  },
  {
   "cell_type": "code",
   "execution_count": null,
   "metadata": {},
   "outputs": [],
   "source": [
    "#Acessando o primeiro elemento da série\n",
    "s1[0]"
   ]
  },
  {
   "cell_type": "code",
   "execution_count": null,
   "metadata": {},
   "outputs": [],
   "source": [
    "#Acessando o índices de 0 à 1\n",
    "s1[0:2]"
   ]
  },
  {
   "cell_type": "markdown",
   "metadata": {
    "id": "YP0OAFFL7btG"
   },
   "source": [
    "# Métodos\n",
    "\n",
    "Curtas e rápidas sobre alguns métodos do pd.Series:"
   ]
  },
  {
   "cell_type": "code",
   "execution_count": null,
   "metadata": {
    "id": "B_XCoVSY79wt"
   },
   "outputs": [],
   "source": [
    "#Concatenar duas series\n",
    "s1 = pd.Series([1,'oi',3]) #Se índices não forem informados, eles serão 0,1,2...\n",
    "s2 = pd.Series(['tchau', 5, 6], index = ['x', 'y', 'z'])\n",
    "s3 = s1.append(s2)\n",
    "s3"
   ]
  },
  {
   "cell_type": "code",
   "execution_count": null,
   "metadata": {
    "id": "Cynl6AKT8Wsn"
   },
   "outputs": [],
   "source": [
    "# Concatenar duas series ignorando indice da segunda\n",
    "s1.append(s2, ignore_index=True)"
   ]
  },
  {
   "cell_type": "markdown",
   "metadata": {
    "id": "idLwKeLE9hqJ"
   },
   "source": [
    "Vamos ilustrar agora o método apply, que serve para \"aplicar\" uma função ao pandas series. Por exemplo, a tarefa de elevar todos os números ao quadrado."
   ]
  },
  {
   "cell_type": "code",
   "execution_count": null,
   "metadata": {
    "id": "_suAa55X8XTN"
   },
   "outputs": [],
   "source": [
    "#Passo 1: Definir a função:\n",
    "def square(x): return x*x;\n",
    "\n",
    "#Passo 2: Chamar a função via método apply:\n",
    "s = pd.Series([1, 2, 3])\n",
    "s.apply(square)"
   ]
  },
  {
   "cell_type": "code",
   "execution_count": null,
   "metadata": {
    "id": "3m4K3MT1AJ4a"
   },
   "outputs": [],
   "source": [
    "#Deletando valores de uma série por indice:\n",
    "s = pd.Series(data=[18, 21, 22], index=['Alice', 'Bob', 'Carlos'])\n",
    "s.drop(labels = ['Bob', 'Carlos'])\n"
   ]
  },
  {
   "cell_type": "code",
   "execution_count": null,
   "metadata": {
    "id": "KMIF6kgIBSTn"
   },
   "outputs": [],
   "source": [
    "#Deletando valores com dados com NaN\n",
    "s = pd.Series(data = [float(\"NaN\"), 21, 22], index=['Alice', 'Bob', 'Carlos'])\n",
    "print(\" Antes: \\n\")\n",
    "print(s)\n",
    "print(\"\\n Depois: \\n \")\n",
    "s.dropna()"
   ]
  },
  {
   "cell_type": "code",
   "execution_count": null,
   "metadata": {
    "id": "1iWZFl52Binu"
   },
   "outputs": [],
   "source": [
    "#Substituindo valores com dados com NaN\n",
    "s = pd.Series(data = [float(\"NaN\"), 21, 22], index=['Alice', 'Bob', 'Carlos'])\n",
    "s.fillna(value = 0)"
   ]
  },
  {
   "cell_type": "code",
   "execution_count": null,
   "metadata": {
    "id": "WbZh8sPFCKGv"
   },
   "outputs": [],
   "source": [
    "#Conversões\n",
    "s = pd.Series(data=[18, 21, 22], index=['Alice', 'Bob', 'Carlos'])\n",
    "\n",
    "#Json\n",
    "print(\" Jason: {}\".format(s.to_json()))\n",
    "\n",
    "#Latex\n",
    "print(\"\\n Latex: \\n\")\n",
    "print(s.to_latex())\n",
    "\n",
    "#Lista\n",
    "print(\"\\n Lista: {}\".format(s.to_list()))\n"
   ]
  },
  {
   "cell_type": "code",
   "execution_count": null,
   "metadata": {
    "id": "lQUENAi6DClv"
   },
   "outputs": [],
   "source": [
    "#Valores unicos\n",
    "s = pd.Series(data=[18, 18, 22], index=['Alice', 'Bob', 'Carlos'])\n",
    "s.unique()"
   ]
  },
  {
   "cell_type": "code",
   "execution_count": null,
   "metadata": {
    "id": "ZcwuE57XF1R4"
   },
   "outputs": [],
   "source": [
    "#Substitui valores via clásula where\n",
    "s = pd.Series(data = [16, 18, 22])\n",
    "\n",
    "#inplace serve para modificar objeto original\n",
    "#Substitui valores quando a condição é falsa\n",
    "s.where(s < 18, \"Hot\") #Se não < 18, então \"Hot\""
   ]
  },
  {
   "cell_type": "markdown",
   "metadata": {
    "id": "Mz-K5bDMKvb4"
   },
   "source": [
    "Por fim, uma observação importante é que em geral os métodos não alteram o estado original do pandas Series: na verdade apenas retornam uma cópia modificada. "
   ]
  },
  {
   "cell_type": "code",
   "execution_count": null,
   "metadata": {
    "id": "F-8wvCgcK3in"
   },
   "outputs": [],
   "source": [
    "print(\" Série original: \\n\")\n",
    "print(s)\n",
    "\n",
    "print(\"\\n Cópia modificada: \\n\")\n",
    "s2 = s.where(s < 18, \"Hot\")\n",
    "print(s2)"
   ]
  },
  {
   "cell_type": "markdown",
   "metadata": {
    "id": "aPULPJ8SLZOX"
   },
   "source": [
    "Nesse caso, se você quiser alterar a série original sem a necessidade de armazenar em um novo elemento, você precisa configurar o parâmetro \"inplace\" que por padrão é \"False\":"
   ]
  },
  {
   "cell_type": "code",
   "execution_count": null,
   "metadata": {
    "id": "pga2pBCbGKvY"
   },
   "outputs": [],
   "source": [
    "print(\" Série original: \\n\")\n",
    "print(s)\n",
    "\n",
    "s.where(s < 18, \"Hot\", inplace= True)\n",
    "\n",
    "print(\" Série Modificada: \\n\")\n",
    "print(s)"
   ]
  },
  {
   "cell_type": "markdown",
   "metadata": {
    "id": "oTUgyjTWLxY4"
   },
   "source": [
    "Racínio análogo com respeito ao \"inplace\" também se aplica aos outros métodos, você deve explicitar quando deseja fazer alterações na série original."
   ]
  },
  {
   "cell_type": "code",
   "execution_count": null,
   "metadata": {
    "id": "YpGv7dMnL8XH"
   },
   "outputs": [],
   "source": []
  }
 ],
 "metadata": {
  "colab": {
   "name": "pdSeries.ipynb",
   "provenance": []
  },
  "kernelspec": {
   "display_name": "Python 3",
   "language": "python",
   "name": "python3"
  },
  "language_info": {
   "codemirror_mode": {
    "name": "ipython",
    "version": 3
   },
   "file_extension": ".py",
   "mimetype": "text/x-python",
   "name": "python",
   "nbconvert_exporter": "python",
   "pygments_lexer": "ipython3",
   "version": "3.8.3"
  }
 },
 "nbformat": 4,
 "nbformat_minor": 1
}
