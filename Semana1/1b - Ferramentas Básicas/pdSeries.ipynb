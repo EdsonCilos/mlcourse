{
  "nbformat": 4,
  "nbformat_minor": 0,
  "metadata": {
    "colab": {
      "name": "pdSeries.ipynb",
      "provenance": []
    },
    "kernelspec": {
      "name": "python3",
      "display_name": "Python 3"
    },
    "language_info": {
      "name": "python"
    }
  },
  "cells": [
    {
      "cell_type": "markdown",
      "metadata": {
        "id": "0D2joW-rz4dd"
      },
      "source": [
        "# Introdução ao pandas Series"
      ]
    },
    {
      "cell_type": "markdown",
      "metadata": {
        "id": "6W3Zp2eFud_7"
      },
      "source": [
        "\n",
        "\n",
        "Aqui vamos abordar sucintamente aspectos introdutórios sobre o tema. É claro que aqui não tem muita novidade, a não ser uma organização um pouco mais didática e facilitada. Tudo que se aborda aqui é a luz da [documentação](https://pandas.pydata.org/pandas-docs/stable/reference/api/pandas.Series.html).\n",
        "\n",
        "O primeiro passo é importar a biblioteca pandas, que tipicamente é renomeada como sendo \"pd\". Isso é feito apenas para deixar o código mais enxuto e melhor de ser implementado.  Poderíamos chamar de outro nome, por exemplo \"ed\" - o que exigiria o esforço mental de se associar \"ed\" à \"pandas\", daí \"pd\" servir muito melhor para essa finalidade. **Lembre que o seu código será lido por outras pessoas**. Para um leitor teimoso, pode-se usar também \"pandas\" por extenso ao preço de se digitar mais alguns carácteres toda vez que se chama a biblioteca.\n",
        "\n"
      ]
    },
    {
      "cell_type": "code",
      "metadata": {
        "id": "CdRh1ALOua_a"
      },
      "source": [
        "import pandas as pd "
      ],
      "execution_count": 1,
      "outputs": []
    },
    {
      "cell_type": "markdown",
      "metadata": {
        "id": "TjNMahMsw8E3"
      },
      "source": [
        "Agora vamos construir um exemplo de pandas Series para discutirmos as suas características."
      ]
    },
    {
      "cell_type": "code",
      "metadata": {
        "colab": {
          "base_uri": "https://localhost:8080/"
        },
        "id": "WFvcP92vxMHw",
        "outputId": "212bc962-452b-46b9-f729-2a10cfb98751"
      },
      "source": [
        "s1 = pd.Series(data = [True, 21, 'Matemática'], \n",
        "               index = ['Alice', 'Bob', 'Carlos'])\n",
        "\n",
        "s1"
      ],
      "execution_count": 6,
      "outputs": [
        {
          "output_type": "execute_result",
          "data": {
            "text/plain": [
              "Alice           True\n",
              "Bob               21\n",
              "Carlos    Matemática\n",
              "dtype: object"
            ]
          },
          "metadata": {
            "tags": []
          },
          "execution_count": 6
        }
      ]
    },
    {
      "cell_type": "markdown",
      "metadata": {
        "id": "oVtaOGw4xSkY"
      },
      "source": [
        "Os dados que estamos representando é essencialmente a lista: \n",
        "\n",
        " <font color='red'> "[True, 21, 'Matemática']", </font>\n",
        "\n",
        "cujo cada elemento tem um *índice* correspondente \n",
        "\n",
        "<font color='red'> "['Alice', 'Bob', 'Carlos']".</font>\n",
        "\n",
        "Observe ainda o dtype : object. Aqui o pandas está interpretando os elementos como sendo um objeto genérico. \n",
        "\n",
        "Vejamos agora um segundo exemplo:"
      ]
    },
    {
      "cell_type": "code",
      "metadata": {
        "colab": {
          "base_uri": "https://localhost:8080/"
        },
        "id": "-gf0a9kxyt5z",
        "outputId": "e92b2509-fe94-4948-f96f-989bc42755c5"
      },
      "source": [
        "s2 = pd.Series(data = [18, 21, 13], \n",
        "               index = ['Alice', 'Bob', 'Carlos'])\n",
        "\n",
        "s2"
      ],
      "execution_count": 7,
      "outputs": [
        {
          "output_type": "execute_result",
          "data": {
            "text/plain": [
              "Alice     18\n",
              "Bob       21\n",
              "Carlos    13\n",
              "dtype: int64"
            ]
          },
          "metadata": {
            "tags": []
          },
          "execution_count": 7
        }
      ]
    },
    {
      "cell_type": "markdown",
      "metadata": {
        "id": "jI397YtJzYIF"
      },
      "source": [
        "Quando os nossos dados de entrada são todo inteiros, automaticamente o pandas reconheceu os dados como sendo do formato inteiro! \n",
        "\n",
        "Aqui então já notamos uma grande diferença com o tratamento típico de arrays (por exemplo, NumPy ndarrays) é que <font color='red'> pandas Series suporta dados de entrada em diferentes formatos.</font>"
      ]
    },
    {
      "cell_type": "markdown",
      "metadata": {
        "id": "8ggqWPXG7RUq"
      },
      "source": [
        "# Atributos\n",
        "\n",
        "Curtas e rápidas sobre alguns dos atributos do pd.Series:"
      ]
    },
    {
      "cell_type": "code",
      "metadata": {
        "colab": {
          "base_uri": "https://localhost:8080/"
        },
        "id": "Th7MP8akzQTl",
        "outputId": "e3657ab3-48ae-4e48-9e0f-f1a4ae64af1b"
      },
      "source": [
        "# Checando tipo de dados: \n",
        "s2.dtype"
      ],
      "execution_count": 17,
      "outputs": [
        {
          "output_type": "execute_result",
          "data": {
            "text/plain": [
              "dtype('int64')"
            ]
          },
          "metadata": {
            "tags": []
          },
          "execution_count": 17
        }
      ]
    },
    {
      "cell_type": "code",
      "metadata": {
        "colab": {
          "base_uri": "https://localhost:8080/"
        },
        "id": "pVhNoFd_5hXe",
        "outputId": "f7693051-a716-452a-b084-eeb71f589c16"
      },
      "source": [
        "# Acessando os índices da série: \n",
        "s1.index"
      ],
      "execution_count": 18,
      "outputs": [
        {
          "output_type": "execute_result",
          "data": {
            "text/plain": [
              "Index(['Alice', 'Bob', 'Carlos'], dtype='object')"
            ]
          },
          "metadata": {
            "tags": []
          },
          "execution_count": 18
        }
      ]
    },
    {
      "cell_type": "code",
      "metadata": {
        "colab": {
          "base_uri": "https://localhost:8080/"
        },
        "id": "sCpcyiQw50-E",
        "outputId": "30fecb98-6da7-4f21-b2e0-ff03ed41e411"
      },
      "source": [
        "#Acessando os valores de uma série:\n",
        "s1.values"
      ],
      "execution_count": 19,
      "outputs": [
        {
          "output_type": "execute_result",
          "data": {
            "text/plain": [
              "array([True, 21, 'Matemática'], dtype=object)"
            ]
          },
          "metadata": {
            "tags": []
          },
          "execution_count": 19
        }
      ]
    },
    {
      "cell_type": "code",
      "metadata": {
        "colab": {
          "base_uri": "https://localhost:8080/"
        },
        "id": "z_xAhyOy6V4N",
        "outputId": "5d5dbaea-b79f-4ec9-d0fa-22daeae9af6e"
      },
      "source": [
        "#Shape dos dados\n",
        "s1.shape"
      ],
      "execution_count": 20,
      "outputs": [
        {
          "output_type": "execute_result",
          "data": {
            "text/plain": [
              "(3,)"
            ]
          },
          "metadata": {
            "tags": []
          },
          "execution_count": 20
        }
      ]
    },
    {
      "cell_type": "code",
      "metadata": {
        "colab": {
          "base_uri": "https://localhost:8080/"
        },
        "id": "lyeqQq666ynl",
        "outputId": "864cefaa-7028-4940-bd64-895fe59913ae"
      },
      "source": [
        "#Quantidade de elementos nos dados\n",
        "s1.size"
      ],
      "execution_count": 21,
      "outputs": [
        {
          "output_type": "execute_result",
          "data": {
            "text/plain": [
              "3"
            ]
          },
          "metadata": {
            "tags": []
          },
          "execution_count": 21
        }
      ]
    },
    {
      "cell_type": "markdown",
      "metadata": {
        "id": "YP0OAFFL7btG"
      },
      "source": [
        "# Métodos\n",
        "\n",
        "Curtas e rápidas sobre alguns métodos do pd.Series:"
      ]
    },
    {
      "cell_type": "code",
      "metadata": {
        "colab": {
          "base_uri": "https://localhost:8080/"
        },
        "id": "B_XCoVSY79wt",
        "outputId": "63435aa5-58df-492b-f593-56e0a329c68b"
      },
      "source": [
        "#Concatenar duas series\n",
        "s1 = pd.Series([1,'oi',3]) #Se índices não forem informados, eles serão 0,1,2...\n",
        "s2 = pd.Series(['tchau', 5, 6], index = ['x', 'y', 'z'])\n",
        "s3 = s1.append(s2)\n",
        "s3"
      ],
      "execution_count": 27,
      "outputs": [
        {
          "output_type": "execute_result",
          "data": {
            "text/plain": [
              "0        1\n",
              "1       oi\n",
              "2        3\n",
              "x    tchau\n",
              "y        5\n",
              "z        6\n",
              "dtype: object"
            ]
          },
          "metadata": {
            "tags": []
          },
          "execution_count": 27
        }
      ]
    },
    {
      "cell_type": "code",
      "metadata": {
        "colab": {
          "base_uri": "https://localhost:8080/"
        },
        "id": "Cynl6AKT8Wsn",
        "outputId": "1da8cc68-7077-4929-db63-29ad7b916a12"
      },
      "source": [
        "# Concatenar duas series ignorando indice da segunda\n",
        "s1.append(s2, ignore_index=True)"
      ],
      "execution_count": 28,
      "outputs": [
        {
          "output_type": "execute_result",
          "data": {
            "text/plain": [
              "0        1\n",
              "1       oi\n",
              "2        3\n",
              "3    tchau\n",
              "4        5\n",
              "5        6\n",
              "dtype: object"
            ]
          },
          "metadata": {
            "tags": []
          },
          "execution_count": 28
        }
      ]
    },
    {
      "cell_type": "markdown",
      "metadata": {
        "id": "idLwKeLE9hqJ"
      },
      "source": [
        "Vamos ilustrar agora o método apply, que serve para \"aplicar\" uma função ao pandas series. Por exemplo, a tarefa de elevar todos os números ao quadrado."
      ]
    },
    {
      "cell_type": "code",
      "metadata": {
        "colab": {
          "base_uri": "https://localhost:8080/"
        },
        "id": "_suAa55X8XTN",
        "outputId": "6bbf2e9a-9ca2-49f6-cd14-dc129b09f3f7"
      },
      "source": [
        "#Passo 1: Definir a função:\n",
        "def square(x): return x*x;\n",
        "\n",
        "#Passo 2: Chamar a função via método apply:\n",
        "s = pd.Series([1, 2, 3])\n",
        "s.apply(square)"
      ],
      "execution_count": 29,
      "outputs": [
        {
          "output_type": "execute_result",
          "data": {
            "text/plain": [
              "0    1\n",
              "1    4\n",
              "2    9\n",
              "dtype: int64"
            ]
          },
          "metadata": {
            "tags": []
          },
          "execution_count": 29
        }
      ]
    },
    {
      "cell_type": "code",
      "metadata": {
        "colab": {
          "base_uri": "https://localhost:8080/"
        },
        "id": "3m4K3MT1AJ4a",
        "outputId": "46150612-68a1-47a6-98dc-73297f1a9739"
      },
      "source": [
        "#Deletando valores de uma série por indice:\n",
        "s = pd.Series(data=[18, 21, 22], index=['Alice', 'Bob', 'Carlos'])\n",
        "s.drop(labels = ['Bob', 'Carlos'])\n"
      ],
      "execution_count": 30,
      "outputs": [
        {
          "output_type": "execute_result",
          "data": {
            "text/plain": [
              "Alice    18\n",
              "dtype: int64"
            ]
          },
          "metadata": {
            "tags": []
          },
          "execution_count": 30
        }
      ]
    },
    {
      "cell_type": "code",
      "metadata": {
        "colab": {
          "base_uri": "https://localhost:8080/"
        },
        "id": "KMIF6kgIBSTn",
        "outputId": "4d01ad6c-23f8-47c7-c5f9-5045ee1b8f11"
      },
      "source": [
        "#Deletando valores com dados com NaN\n",
        "s = pd.Series(data = [float(\"NaN\"), 21, 22], index=['Alice', 'Bob', 'Carlos'])\n",
        "print(\" Antes: \\n\")\n",
        "print(s)\n",
        "print(\"\\n Depois: \\n \")\n",
        "s.dropna()"
      ],
      "execution_count": 39,
      "outputs": [
        {
          "output_type": "stream",
          "text": [
            " Antes: \n",
            "\n",
            "Alice      NaN\n",
            "Bob       21.0\n",
            "Carlos    22.0\n",
            "dtype: float64\n",
            "\n",
            " Depois: \n",
            " \n"
          ],
          "name": "stdout"
        },
        {
          "output_type": "execute_result",
          "data": {
            "text/plain": [
              "Bob       21.0\n",
              "Carlos    22.0\n",
              "dtype: float64"
            ]
          },
          "metadata": {
            "tags": []
          },
          "execution_count": 39
        }
      ]
    },
    {
      "cell_type": "code",
      "metadata": {
        "colab": {
          "base_uri": "https://localhost:8080/"
        },
        "id": "1iWZFl52Binu",
        "outputId": "944fe974-3afb-4502-f038-282b68d416f0"
      },
      "source": [
        "#Substituindo valores com dados com NaN\n",
        "s = pd.Series(data = [float(\"NaN\"), 21, 22], index=['Alice', 'Bob', 'Carlos'])\n",
        "s.fillna(value = 0)"
      ],
      "execution_count": 40,
      "outputs": [
        {
          "output_type": "execute_result",
          "data": {
            "text/plain": [
              "Alice      0.0\n",
              "Bob       21.0\n",
              "Carlos    22.0\n",
              "dtype: float64"
            ]
          },
          "metadata": {
            "tags": []
          },
          "execution_count": 40
        }
      ]
    },
    {
      "cell_type": "code",
      "metadata": {
        "colab": {
          "base_uri": "https://localhost:8080/"
        },
        "id": "WbZh8sPFCKGv",
        "outputId": "e92b2942-3881-4225-b9b0-38c3f89f3e0e"
      },
      "source": [
        "#Conversões\n",
        "s = pd.Series(data=[18, 21, 22], index=['Alice', 'Bob', 'Carlos'])\n",
        "\n",
        "#Json\n",
        "print(\" Jason: {}\".format(s.to_json()))\n",
        "\n",
        "#Latex\n",
        "print(\"\\n Latex: \\n\")\n",
        "print(s.to_latex())\n",
        "\n",
        "#Lista\n",
        "print(\"\\n Lista: {}\".format(s.to_list()))\n"
      ],
      "execution_count": 46,
      "outputs": [
        {
          "output_type": "stream",
          "text": [
            " Jason: {\"Alice\":18,\"Bob\":21,\"Carlos\":22}\n",
            "\n",
            " Latex: \n",
            "\n",
            "\\begin{tabular}{lr}\n",
            "\\toprule\n",
            "{} &   0 \\\\\n",
            "\\midrule\n",
            "Alice  &  18 \\\\\n",
            "Bob    &  21 \\\\\n",
            "Carlos &  22 \\\\\n",
            "\\bottomrule\n",
            "\\end{tabular}\n",
            "\n",
            "\n",
            " Lista: [18, 21, 22]\n"
          ],
          "name": "stdout"
        }
      ]
    },
    {
      "cell_type": "code",
      "metadata": {
        "colab": {
          "base_uri": "https://localhost:8080/"
        },
        "id": "lQUENAi6DClv",
        "outputId": "d504bee2-a373-4bee-bc53-9e460eea7891"
      },
      "source": [
        "#Valores unicos\n",
        "s = pd.Series(data=[18, 18, 22], index=['Alice', 'Bob', 'Carlos'])\n",
        "s.unique()"
      ],
      "execution_count": 49,
      "outputs": [
        {
          "output_type": "execute_result",
          "data": {
            "text/plain": [
              "array([18, 22])"
            ]
          },
          "metadata": {
            "tags": []
          },
          "execution_count": 49
        }
      ]
    },
    {
      "cell_type": "code",
      "metadata": {
        "colab": {
          "base_uri": "https://localhost:8080/"
        },
        "id": "ZcwuE57XF1R4",
        "outputId": "a9ad7607-3b76-4e13-ed28-3b055713ab8d"
      },
      "source": [
        "#Substitui valores via clásula where\n",
        "s = pd.Series(data = [16, 18, 22])\n",
        "\n",
        "#inplace serve para modificar objeto original\n",
        "#Substitui valores quando a condição é falsa\n",
        "s.where(s < 18, \"Hot\") #Se não < 18, então \"Hot\""
      ],
      "execution_count": 58,
      "outputs": [
        {
          "output_type": "execute_result",
          "data": {
            "text/plain": [
              "0     16\n",
              "1    Hot\n",
              "2    Hot\n",
              "dtype: object"
            ]
          },
          "metadata": {
            "tags": []
          },
          "execution_count": 58
        }
      ]
    },
    {
      "cell_type": "code",
      "metadata": {
        "id": "pga2pBCbGKvY"
      },
      "source": [
        ""
      ],
      "execution_count": null,
      "outputs": []
    }
  ]
}